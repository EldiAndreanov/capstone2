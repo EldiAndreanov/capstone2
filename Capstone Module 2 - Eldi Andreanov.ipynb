{
 "cells": [
  {
   "cell_type": "code",
   "execution_count": 2,
   "id": "1d90642b-1e9b-4b93-ae50-aa586b85a4f0",
   "metadata": {},
   "outputs": [],
   "source": [
    "import pandas as pd\n",
    "import numpy as np"
   ]
  },
  {
   "cell_type": "code",
   "execution_count": 3,
   "id": "49381bba-8640-4e8f-984e-fae3b7cb667f",
   "metadata": {},
   "outputs": [],
   "source": [
    "import matplotlib.pyplot as plt\n",
    "import seaborn as sns"
   ]
  },
  {
   "cell_type": "code",
   "execution_count": 4,
   "id": "ca6af47d-9032-4e32-8395-89d02dc04850",
   "metadata": {},
   "outputs": [],
   "source": [
    "df = pd.read_csv('E:\\\\PURWADHIKA\\\\Capstone module 2\\\\Supermarket Customers.csv', delimiter='\\t')"
   ]
  },
  {
   "cell_type": "code",
   "execution_count": 5,
   "id": "d38d5816-9081-483b-82c9-4992f5650041",
   "metadata": {
    "panel-layout": {
     "height": 188,
     "visible": true,
     "width": 100
    }
   },
   "outputs": [
    {
     "data": {
      "text/html": [
       "<div>\n",
       "<style scoped>\n",
       "    .dataframe tbody tr th:only-of-type {\n",
       "        vertical-align: middle;\n",
       "    }\n",
       "\n",
       "    .dataframe tbody tr th {\n",
       "        vertical-align: top;\n",
       "    }\n",
       "\n",
       "    .dataframe thead th {\n",
       "        text-align: right;\n",
       "    }\n",
       "</style>\n",
       "<table border=\"1\" class=\"dataframe\">\n",
       "  <thead>\n",
       "    <tr style=\"text-align: right;\">\n",
       "      <th></th>\n",
       "      <th>ID</th>\n",
       "      <th>Year_Birth</th>\n",
       "      <th>Education</th>\n",
       "      <th>Marital_Status</th>\n",
       "      <th>Income</th>\n",
       "      <th>Kidhome</th>\n",
       "      <th>Teenhome</th>\n",
       "      <th>Dt_Customer</th>\n",
       "      <th>Recency</th>\n",
       "      <th>MntWines</th>\n",
       "      <th>...</th>\n",
       "      <th>NumWebVisitsMonth</th>\n",
       "      <th>AcceptedCmp3</th>\n",
       "      <th>AcceptedCmp4</th>\n",
       "      <th>AcceptedCmp5</th>\n",
       "      <th>AcceptedCmp1</th>\n",
       "      <th>AcceptedCmp2</th>\n",
       "      <th>Complain</th>\n",
       "      <th>Z_CostContact</th>\n",
       "      <th>Z_Revenue</th>\n",
       "      <th>Response</th>\n",
       "    </tr>\n",
       "  </thead>\n",
       "  <tbody>\n",
       "    <tr>\n",
       "      <th>0</th>\n",
       "      <td>5524</td>\n",
       "      <td>1957</td>\n",
       "      <td>Graduation</td>\n",
       "      <td>Single</td>\n",
       "      <td>58138.0</td>\n",
       "      <td>0</td>\n",
       "      <td>0</td>\n",
       "      <td>04-09-2012</td>\n",
       "      <td>58</td>\n",
       "      <td>635</td>\n",
       "      <td>...</td>\n",
       "      <td>7</td>\n",
       "      <td>0</td>\n",
       "      <td>0</td>\n",
       "      <td>0</td>\n",
       "      <td>0</td>\n",
       "      <td>0</td>\n",
       "      <td>0</td>\n",
       "      <td>3</td>\n",
       "      <td>11</td>\n",
       "      <td>1</td>\n",
       "    </tr>\n",
       "    <tr>\n",
       "      <th>1</th>\n",
       "      <td>2174</td>\n",
       "      <td>1954</td>\n",
       "      <td>Graduation</td>\n",
       "      <td>Single</td>\n",
       "      <td>46344.0</td>\n",
       "      <td>1</td>\n",
       "      <td>1</td>\n",
       "      <td>08-03-2014</td>\n",
       "      <td>38</td>\n",
       "      <td>11</td>\n",
       "      <td>...</td>\n",
       "      <td>5</td>\n",
       "      <td>0</td>\n",
       "      <td>0</td>\n",
       "      <td>0</td>\n",
       "      <td>0</td>\n",
       "      <td>0</td>\n",
       "      <td>0</td>\n",
       "      <td>3</td>\n",
       "      <td>11</td>\n",
       "      <td>0</td>\n",
       "    </tr>\n",
       "    <tr>\n",
       "      <th>2</th>\n",
       "      <td>4141</td>\n",
       "      <td>1965</td>\n",
       "      <td>Graduation</td>\n",
       "      <td>Together</td>\n",
       "      <td>71613.0</td>\n",
       "      <td>0</td>\n",
       "      <td>0</td>\n",
       "      <td>21-08-2013</td>\n",
       "      <td>26</td>\n",
       "      <td>426</td>\n",
       "      <td>...</td>\n",
       "      <td>4</td>\n",
       "      <td>0</td>\n",
       "      <td>0</td>\n",
       "      <td>0</td>\n",
       "      <td>0</td>\n",
       "      <td>0</td>\n",
       "      <td>0</td>\n",
       "      <td>3</td>\n",
       "      <td>11</td>\n",
       "      <td>0</td>\n",
       "    </tr>\n",
       "    <tr>\n",
       "      <th>3</th>\n",
       "      <td>6182</td>\n",
       "      <td>1984</td>\n",
       "      <td>Graduation</td>\n",
       "      <td>Together</td>\n",
       "      <td>26646.0</td>\n",
       "      <td>1</td>\n",
       "      <td>0</td>\n",
       "      <td>10-02-2014</td>\n",
       "      <td>26</td>\n",
       "      <td>11</td>\n",
       "      <td>...</td>\n",
       "      <td>6</td>\n",
       "      <td>0</td>\n",
       "      <td>0</td>\n",
       "      <td>0</td>\n",
       "      <td>0</td>\n",
       "      <td>0</td>\n",
       "      <td>0</td>\n",
       "      <td>3</td>\n",
       "      <td>11</td>\n",
       "      <td>0</td>\n",
       "    </tr>\n",
       "    <tr>\n",
       "      <th>4</th>\n",
       "      <td>5324</td>\n",
       "      <td>1981</td>\n",
       "      <td>PhD</td>\n",
       "      <td>Married</td>\n",
       "      <td>58293.0</td>\n",
       "      <td>1</td>\n",
       "      <td>0</td>\n",
       "      <td>19-01-2014</td>\n",
       "      <td>94</td>\n",
       "      <td>173</td>\n",
       "      <td>...</td>\n",
       "      <td>5</td>\n",
       "      <td>0</td>\n",
       "      <td>0</td>\n",
       "      <td>0</td>\n",
       "      <td>0</td>\n",
       "      <td>0</td>\n",
       "      <td>0</td>\n",
       "      <td>3</td>\n",
       "      <td>11</td>\n",
       "      <td>0</td>\n",
       "    </tr>\n",
       "  </tbody>\n",
       "</table>\n",
       "<p>5 rows × 29 columns</p>\n",
       "</div>"
      ],
      "text/plain": [
       "     ID  Year_Birth   Education Marital_Status   Income  Kidhome  Teenhome  \\\n",
       "0  5524        1957  Graduation         Single  58138.0        0         0   \n",
       "1  2174        1954  Graduation         Single  46344.0        1         1   \n",
       "2  4141        1965  Graduation       Together  71613.0        0         0   \n",
       "3  6182        1984  Graduation       Together  26646.0        1         0   \n",
       "4  5324        1981         PhD        Married  58293.0        1         0   \n",
       "\n",
       "  Dt_Customer  Recency  MntWines  ...  NumWebVisitsMonth  AcceptedCmp3  \\\n",
       "0  04-09-2012       58       635  ...                  7             0   \n",
       "1  08-03-2014       38        11  ...                  5             0   \n",
       "2  21-08-2013       26       426  ...                  4             0   \n",
       "3  10-02-2014       26        11  ...                  6             0   \n",
       "4  19-01-2014       94       173  ...                  5             0   \n",
       "\n",
       "   AcceptedCmp4  AcceptedCmp5  AcceptedCmp1  AcceptedCmp2  Complain  \\\n",
       "0             0             0             0             0         0   \n",
       "1             0             0             0             0         0   \n",
       "2             0             0             0             0         0   \n",
       "3             0             0             0             0         0   \n",
       "4             0             0             0             0         0   \n",
       "\n",
       "   Z_CostContact  Z_Revenue  Response  \n",
       "0              3         11         1  \n",
       "1              3         11         0  \n",
       "2              3         11         0  \n",
       "3              3         11         0  \n",
       "4              3         11         0  \n",
       "\n",
       "[5 rows x 29 columns]"
      ]
     },
     "execution_count": 5,
     "metadata": {},
     "output_type": "execute_result"
    }
   ],
   "source": [
    "df.head()"
   ]
  },
  {
   "cell_type": "markdown",
   "id": "e90d97ef-1b0b-4229-ae33-598e5299b6d5",
   "metadata": {
    "panel-layout": {
     "height": 51.140625,
     "visible": true,
     "width": 100
    }
   },
   "source": [
    "Menambahkan kolom kategori berdasarkan kolom recency"
   ]
  },
  {
   "cell_type": "markdown",
   "id": "b01a6aba-6e04-4210-bd80-29cff6064b10",
   "metadata": {
    "panel-layout": {
     "height": 97.421875,
     "visible": true,
     "width": 100
    }
   },
   "source": [
    "## DATA CLEANSING\n",
    "- Mencari tahu data yang bernilai null terlebih dahulu.\n",
    "- Mencari tahu data tersebut baiknya dihiilangkan atau diisi. Jika diisi lebih baik dengan apa."
   ]
  },
  {
   "cell_type": "code",
   "execution_count": 6,
   "id": "f550410b-678b-4171-a735-5bbd0a07566b",
   "metadata": {
    "panel-layout": {
     "height": 0,
     "visible": true,
     "width": 100
    }
   },
   "outputs": [
    {
     "name": "stdout",
     "output_type": "stream",
     "text": [
      "<class 'pandas.core.frame.DataFrame'>\n",
      "RangeIndex: 2240 entries, 0 to 2239\n",
      "Data columns (total 29 columns):\n",
      " #   Column               Non-Null Count  Dtype  \n",
      "---  ------               --------------  -----  \n",
      " 0   ID                   2240 non-null   int64  \n",
      " 1   Year_Birth           2240 non-null   int64  \n",
      " 2   Education            2240 non-null   object \n",
      " 3   Marital_Status       2240 non-null   object \n",
      " 4   Income               2216 non-null   float64\n",
      " 5   Kidhome              2240 non-null   int64  \n",
      " 6   Teenhome             2240 non-null   int64  \n",
      " 7   Dt_Customer          2240 non-null   object \n",
      " 8   Recency              2240 non-null   int64  \n",
      " 9   MntWines             2240 non-null   int64  \n",
      " 10  MntFruits            2240 non-null   int64  \n",
      " 11  MntMeatProducts      2240 non-null   int64  \n",
      " 12  MntFishProducts      2240 non-null   int64  \n",
      " 13  MntSweetProducts     2240 non-null   int64  \n",
      " 14  MntGoldProds         2240 non-null   int64  \n",
      " 15  NumDealsPurchases    2240 non-null   int64  \n",
      " 16  NumWebPurchases      2240 non-null   int64  \n",
      " 17  NumCatalogPurchases  2240 non-null   int64  \n",
      " 18  NumStorePurchases    2240 non-null   int64  \n",
      " 19  NumWebVisitsMonth    2240 non-null   int64  \n",
      " 20  AcceptedCmp3         2240 non-null   int64  \n",
      " 21  AcceptedCmp4         2240 non-null   int64  \n",
      " 22  AcceptedCmp5         2240 non-null   int64  \n",
      " 23  AcceptedCmp1         2240 non-null   int64  \n",
      " 24  AcceptedCmp2         2240 non-null   int64  \n",
      " 25  Complain             2240 non-null   int64  \n",
      " 26  Z_CostContact        2240 non-null   int64  \n",
      " 27  Z_Revenue            2240 non-null   int64  \n",
      " 28  Response             2240 non-null   int64  \n",
      "dtypes: float64(1), int64(25), object(3)\n",
      "memory usage: 507.6+ KB\n"
     ]
    }
   ],
   "source": [
    "df.info()"
   ]
  },
  {
   "cell_type": "code",
   "execution_count": 7,
   "id": "5c576d31-748e-422b-90de-321f2cb6ab01",
   "metadata": {
    "panel-layout": {
     "height": 874,
     "visible": true,
     "width": 100
    }
   },
   "outputs": [
    {
     "data": {
      "image/png": "[encoded data removed]",
      "text/plain": [
       "<Figure size 1000x600 with 1 Axes>"
      ]
     },
     "metadata": {},
     "output_type": "display_data"
    }
   ],
   "source": [
    "hitung_na = df.isnull().sum()\n",
    "\n",
    "plt.figure(figsize=(10, 6))\n",
    "plt.bar(hitung_na.index, hitung_na.values)\n",
    "plt.title(\"Nilai null pada setiap kolom\")\n",
    "plt.xlabel(\"Nama Kolom\")\n",
    "plt.ylabel(\"Jumlah null\")\n",
    "plt.xticks(rotation=45, ha=\"right\")\n",
    "plt.tight_layout()\n",
    "plt.show()"
   ]
  },
  {
   "cell_type": "markdown",
   "id": "a6c5aeea-177b-4a5d-82a3-feec89a19d1d",
   "metadata": {
    "panel-layout": {
     "height": 51.140625,
     "visible": true,
     "width": 100
    }
   },
   "source": [
    "Dari barplot diatas terlihat jika null hanya terletak di tabel income."
   ]
  },
  {
   "cell_type": "markdown",
   "id": "6119a06c-010f-469c-8ef2-379a668cb429",
   "metadata": {},
   "source": [
    "- Cek apakah duplikat data"
   ]
  },
  {
   "cell_type": "code",
   "execution_count": 8,
   "id": "3dbf0ebf-25cb-459c-bfa2-ca52a9b626ff",
   "metadata": {},
   "outputs": [
    {
     "name": "stdout",
     "output_type": "stream",
     "text": [
      "Tidak terdapat data ganda dalam DataFrame.\n"
     ]
    }
   ],
   "source": [
    "duplicate_rows = df[df.duplicated()]\n",
    "\n",
    "if not duplicate_rows.empty: #kondisi JIka ada data duplicate \n",
    "    print(\"Terdapat data ganda dalam DataFrame.\")\n",
    "    print(\"Berikut adalah baris-baris yang merupakan duplikat:\")\n",
    "    print(duplicate_rows)\n",
    "else: #Jika tidak ada\n",
    "    print(\"Tidak terdapat data ganda dalam DataFrame.\")"
   ]
  },
  {
   "cell_type": "code",
   "execution_count": 9,
   "id": "eaa32804-5975-42e4-90fd-c252b86d0ede",
   "metadata": {
    "panel-layout": {
     "height": 874,
     "visible": true,
     "width": 100
    },
    "scrolled": true
   },
   "outputs": [
    {
     "data": {
      "image/png": "[encoded data removed]",
      "text/plain": [
       "<Figure size 800x600 with 1 Axes>"
      ]
     },
     "metadata": {},
     "output_type": "display_data"
    }
   ],
   "source": [
    "plt.figure(figsize=(8, 6))\n",
    "sns.histplot(df['Income'], kde=True)\n",
    "plt.xlabel('Income')\n",
    "plt.ylabel('Frekuensi')\n",
    "plt.title('Distribution of Customers Income')\n",
    "plt.show()"
   ]
  },
  {
   "cell_type": "markdown",
   "id": "7ef2cc82-87b3-4c43-8948-ed9eb347c4d3",
   "metadata": {
    "panel-layout": {
     "height": 68.28125,
     "visible": true,
     "width": 100
    }
   },
   "source": [
    "Bedasarkan barplot diatas, distribusi data untuk customer income terdistribusi tidak normal (skewed kanan).\n",
    "Oleh karena itu untuk mendapatkan penghitungan yang tepat saya mengisi Na dengan nilai Mediannya"
   ]
  },
  {
   "cell_type": "code",
   "execution_count": 10,
   "id": "b1060945-b3d3-437c-9f48-bb39fbfdea80",
   "metadata": {
    "panel-layout": {
     "height": 1062,
     "visible": true,
     "width": 100
    }
   },
   "outputs": [
    {
     "data": {
      "text/html": [
       "<div>\n",
       "<style scoped>\n",
       "    .dataframe tbody tr th:only-of-type {\n",
       "        vertical-align: middle;\n",
       "    }\n",
       "\n",
       "    .dataframe tbody tr th {\n",
       "        vertical-align: top;\n",
       "    }\n",
       "\n",
       "    .dataframe thead th {\n",
       "        text-align: right;\n",
       "    }\n",
       "</style>\n",
       "<table border=\"1\" class=\"dataframe\">\n",
       "  <thead>\n",
       "    <tr style=\"text-align: right;\">\n",
       "      <th></th>\n",
       "      <th>ID</th>\n",
       "      <th>Year_Birth</th>\n",
       "      <th>Education</th>\n",
       "      <th>Marital_Status</th>\n",
       "      <th>Income</th>\n",
       "      <th>Kidhome</th>\n",
       "      <th>Teenhome</th>\n",
       "      <th>Dt_Customer</th>\n",
       "      <th>Recency</th>\n",
       "      <th>MntWines</th>\n",
       "      <th>...</th>\n",
       "      <th>NumWebVisitsMonth</th>\n",
       "      <th>AcceptedCmp3</th>\n",
       "      <th>AcceptedCmp4</th>\n",
       "      <th>AcceptedCmp5</th>\n",
       "      <th>AcceptedCmp1</th>\n",
       "      <th>AcceptedCmp2</th>\n",
       "      <th>Complain</th>\n",
       "      <th>Z_CostContact</th>\n",
       "      <th>Z_Revenue</th>\n",
       "      <th>Response</th>\n",
       "    </tr>\n",
       "  </thead>\n",
       "  <tbody>\n",
       "    <tr>\n",
       "      <th>0</th>\n",
       "      <td>5524</td>\n",
       "      <td>1957</td>\n",
       "      <td>Graduation</td>\n",
       "      <td>Single</td>\n",
       "      <td>58138.0</td>\n",
       "      <td>0</td>\n",
       "      <td>0</td>\n",
       "      <td>04-09-2012</td>\n",
       "      <td>58</td>\n",
       "      <td>635</td>\n",
       "      <td>...</td>\n",
       "      <td>7</td>\n",
       "      <td>0</td>\n",
       "      <td>0</td>\n",
       "      <td>0</td>\n",
       "      <td>0</td>\n",
       "      <td>0</td>\n",
       "      <td>0</td>\n",
       "      <td>3</td>\n",
       "      <td>11</td>\n",
       "      <td>1</td>\n",
       "    </tr>\n",
       "    <tr>\n",
       "      <th>1</th>\n",
       "      <td>2174</td>\n",
       "      <td>1954</td>\n",
       "      <td>Graduation</td>\n",
       "      <td>Single</td>\n",
       "      <td>46344.0</td>\n",
       "      <td>1</td>\n",
       "      <td>1</td>\n",
       "      <td>08-03-2014</td>\n",
       "      <td>38</td>\n",
       "      <td>11</td>\n",
       "      <td>...</td>\n",
       "      <td>5</td>\n",
       "      <td>0</td>\n",
       "      <td>0</td>\n",
       "      <td>0</td>\n",
       "      <td>0</td>\n",
       "      <td>0</td>\n",
       "      <td>0</td>\n",
       "      <td>3</td>\n",
       "      <td>11</td>\n",
       "      <td>0</td>\n",
       "    </tr>\n",
       "    <tr>\n",
       "      <th>2</th>\n",
       "      <td>4141</td>\n",
       "      <td>1965</td>\n",
       "      <td>Graduation</td>\n",
       "      <td>Together</td>\n",
       "      <td>71613.0</td>\n",
       "      <td>0</td>\n",
       "      <td>0</td>\n",
       "      <td>21-08-2013</td>\n",
       "      <td>26</td>\n",
       "      <td>426</td>\n",
       "      <td>...</td>\n",
       "      <td>4</td>\n",
       "      <td>0</td>\n",
       "      <td>0</td>\n",
       "      <td>0</td>\n",
       "      <td>0</td>\n",
       "      <td>0</td>\n",
       "      <td>0</td>\n",
       "      <td>3</td>\n",
       "      <td>11</td>\n",
       "      <td>0</td>\n",
       "    </tr>\n",
       "    <tr>\n",
       "      <th>3</th>\n",
       "      <td>6182</td>\n",
       "      <td>1984</td>\n",
       "      <td>Graduation</td>\n",
       "      <td>Together</td>\n",
       "      <td>26646.0</td>\n",
       "      <td>1</td>\n",
       "      <td>0</td>\n",
       "      <td>10-02-2014</td>\n",
       "      <td>26</td>\n",
       "      <td>11</td>\n",
       "      <td>...</td>\n",
       "      <td>6</td>\n",
       "      <td>0</td>\n",
       "      <td>0</td>\n",
       "      <td>0</td>\n",
       "      <td>0</td>\n",
       "      <td>0</td>\n",
       "      <td>0</td>\n",
       "      <td>3</td>\n",
       "      <td>11</td>\n",
       "      <td>0</td>\n",
       "    </tr>\n",
       "    <tr>\n",
       "      <th>4</th>\n",
       "      <td>5324</td>\n",
       "      <td>1981</td>\n",
       "      <td>PhD</td>\n",
       "      <td>Married</td>\n",
       "      <td>58293.0</td>\n",
       "      <td>1</td>\n",
       "      <td>0</td>\n",
       "      <td>19-01-2014</td>\n",
       "      <td>94</td>\n",
       "      <td>173</td>\n",
       "      <td>...</td>\n",
       "      <td>5</td>\n",
       "      <td>0</td>\n",
       "      <td>0</td>\n",
       "      <td>0</td>\n",
       "      <td>0</td>\n",
       "      <td>0</td>\n",
       "      <td>0</td>\n",
       "      <td>3</td>\n",
       "      <td>11</td>\n",
       "      <td>0</td>\n",
       "    </tr>\n",
       "  </tbody>\n",
       "</table>\n",
       "<p>5 rows × 29 columns</p>\n",
       "</div>"
      ],
      "text/plain": [
       "     ID  Year_Birth   Education Marital_Status   Income  Kidhome  Teenhome  \\\n",
       "0  5524        1957  Graduation         Single  58138.0        0         0   \n",
       "1  2174        1954  Graduation         Single  46344.0        1         1   \n",
       "2  4141        1965  Graduation       Together  71613.0        0         0   \n",
       "3  6182        1984  Graduation       Together  26646.0        1         0   \n",
       "4  5324        1981         PhD        Married  58293.0        1         0   \n",
       "\n",
       "  Dt_Customer  Recency  MntWines  ...  NumWebVisitsMonth  AcceptedCmp3  \\\n",
       "0  04-09-2012       58       635  ...                  7             0   \n",
       "1  08-03-2014       38        11  ...                  5             0   \n",
       "2  21-08-2013       26       426  ...                  4             0   \n",
       "3  10-02-2014       26        11  ...                  6             0   \n",
       "4  19-01-2014       94       173  ...                  5             0   \n",
       "\n",
       "   AcceptedCmp4  AcceptedCmp5  AcceptedCmp1  AcceptedCmp2  Complain  \\\n",
       "0             0             0             0             0         0   \n",
       "1             0             0             0             0         0   \n",
       "2             0             0             0             0         0   \n",
       "3             0             0             0             0         0   \n",
       "4             0             0             0             0         0   \n",
       "\n",
       "   Z_CostContact  Z_Revenue  Response  \n",
       "0              3         11         1  \n",
       "1              3         11         0  \n",
       "2              3         11         0  \n",
       "3              3         11         0  \n",
       "4              3         11         0  \n",
       "\n",
       "[5 rows x 29 columns]"
      ]
     },
     "execution_count": 10,
     "metadata": {},
     "output_type": "execute_result"
    }
   ],
   "source": [
    "df['Income'] = df['Income'].fillna(df['Income'].median())\n",
    "\n",
    "df.head()"
   ]
  },
  {
   "cell_type": "code",
   "execution_count": 11,
   "id": "7fc9fd8d-ecc4-40c8-ad6d-22d80559bb46",
   "metadata": {},
   "outputs": [
    {
     "name": "stdout",
     "output_type": "stream",
     "text": [
      "Tidak terdapat data ganda dalam DataFrame.\n"
     ]
    }
   ],
   "source": [
    "# Cek apakah ada data ganda di Dataframe df (data supermarket Customer).\n",
    "duplicate_rows = df[df.duplicated()]\n",
    "\n",
    "if not duplicate_rows.empty:\n",
    "    print(\"Terdapat data ganda dalam DataFrame.\")\n",
    "    print(\"Berikut adalah baris-baris yang merupakan duplikat:\")\n",
    "    print(duplicate_rows)\n",
    "else:\n",
    "    print(\"Tidak terdapat data ganda dalam DataFrame.\")"
   ]
  },
  {
   "cell_type": "markdown",
   "id": "db9f3111-c73a-4994-a6de-43308cf1b38c",
   "metadata": {},
   "source": [
    "## Menambahkan kolom\n",
    "Mengambil tanggal maksimal pada kolom Dt_Customer (tanggal registrasi)\n",
    "- untuk membuat length dan juga mendapatkan 'analisis date'"
   ]
  },
  {
   "cell_type": "code",
   "execution_count": 13,
   "id": "c312acd2",
   "metadata": {},
   "outputs": [
    {
     "data": {
      "text/plain": [
       "0       04-09-2012\n",
       "1       08-03-2014\n",
       "2       21-08-2013\n",
       "3       10-02-2014\n",
       "4       19-01-2014\n",
       "           ...    \n",
       "2235    13-06-2013\n",
       "2236    10-06-2014\n",
       "2237    25-01-2014\n",
       "2238    24-01-2014\n",
       "2239    15-10-2012\n",
       "Name: Dt_Customer, Length: 2240, dtype: object"
      ]
     },
     "execution_count": 13,
     "metadata": {},
     "output_type": "execute_result"
    }
   ],
   "source": [
    "df['Dt_Customer']"
   ]
  },
  {
   "cell_type": "code",
   "execution_count": 14,
   "id": "a926b965-9bbe-4b4c-8ebb-132946bd31ce",
   "metadata": {},
   "outputs": [
    {
     "data": {
      "text/plain": [
       "Timestamp('2014-06-30 00:00:00')"
      ]
     },
     "execution_count": 14,
     "metadata": {},
     "output_type": "execute_result"
    }
   ],
   "source": [
    "import datetime\n",
    "\n",
    "df['Dt_Customer'] = pd.to_datetime(df['Dt_Customer'], format='%d-%m-%Y') #mengubah format Dt_Customer menjadi datetime\n",
    "\n",
    "# Mengambil tanggal maksimum dari kolom 'Dt_Customer' dan menambahkannya dengan 1 hari untuk didefinisikan sebagai tanggal analisis\n",
    "analysis_date = df['Dt_Customer'].max() + datetime.timedelta(1) #mengambil data Dt_Cust tertinggi + 1 hari dan didefinisikan kedalam variable\n",
    "analysis_date"
   ]
  },
  {
   "cell_type": "markdown",
   "id": "682b02c0-2a36-448a-9866-8a579b30e0c3",
   "metadata": {},
   "source": [
    "- Membuat kolom Total_Frequency berdasarkan data purchases customer"
   ]
  },
  {
   "cell_type": "code",
   "execution_count": 15,
   "id": "8b7cdbd6-57d1-4077-b1e6-0f51221db4f7",
   "metadata": {},
   "outputs": [
    {
     "data": {
      "text/html": [
       "<div>\n",
       "<style scoped>\n",
       "    .dataframe tbody tr th:only-of-type {\n",
       "        vertical-align: middle;\n",
       "    }\n",
       "\n",
       "    .dataframe tbody tr th {\n",
       "        vertical-align: top;\n",
       "    }\n",
       "\n",
       "    .dataframe thead th {\n",
       "        text-align: right;\n",
       "    }\n",
       "</style>\n",
       "<table border=\"1\" class=\"dataframe\">\n",
       "  <thead>\n",
       "    <tr style=\"text-align: right;\">\n",
       "      <th></th>\n",
       "      <th>ID</th>\n",
       "      <th>Year_Birth</th>\n",
       "      <th>Education</th>\n",
       "      <th>Marital_Status</th>\n",
       "      <th>Income</th>\n",
       "      <th>Kidhome</th>\n",
       "      <th>Teenhome</th>\n",
       "      <th>Dt_Customer</th>\n",
       "      <th>Recency</th>\n",
       "      <th>MntWines</th>\n",
       "      <th>...</th>\n",
       "      <th>AcceptedCmp3</th>\n",
       "      <th>AcceptedCmp4</th>\n",
       "      <th>AcceptedCmp5</th>\n",
       "      <th>AcceptedCmp1</th>\n",
       "      <th>AcceptedCmp2</th>\n",
       "      <th>Complain</th>\n",
       "      <th>Z_CostContact</th>\n",
       "      <th>Z_Revenue</th>\n",
       "      <th>Response</th>\n",
       "      <th>Total_Frequency</th>\n",
       "    </tr>\n",
       "  </thead>\n",
       "  <tbody>\n",
       "    <tr>\n",
       "      <th>0</th>\n",
       "      <td>5524</td>\n",
       "      <td>1957</td>\n",
       "      <td>Graduation</td>\n",
       "      <td>Single</td>\n",
       "      <td>58138.0</td>\n",
       "      <td>0</td>\n",
       "      <td>0</td>\n",
       "      <td>2012-09-04</td>\n",
       "      <td>58</td>\n",
       "      <td>635</td>\n",
       "      <td>...</td>\n",
       "      <td>0</td>\n",
       "      <td>0</td>\n",
       "      <td>0</td>\n",
       "      <td>0</td>\n",
       "      <td>0</td>\n",
       "      <td>0</td>\n",
       "      <td>3</td>\n",
       "      <td>11</td>\n",
       "      <td>1</td>\n",
       "      <td>25</td>\n",
       "    </tr>\n",
       "    <tr>\n",
       "      <th>1</th>\n",
       "      <td>2174</td>\n",
       "      <td>1954</td>\n",
       "      <td>Graduation</td>\n",
       "      <td>Single</td>\n",
       "      <td>46344.0</td>\n",
       "      <td>1</td>\n",
       "      <td>1</td>\n",
       "      <td>2014-03-08</td>\n",
       "      <td>38</td>\n",
       "      <td>11</td>\n",
       "      <td>...</td>\n",
       "      <td>0</td>\n",
       "      <td>0</td>\n",
       "      <td>0</td>\n",
       "      <td>0</td>\n",
       "      <td>0</td>\n",
       "      <td>0</td>\n",
       "      <td>3</td>\n",
       "      <td>11</td>\n",
       "      <td>0</td>\n",
       "      <td>6</td>\n",
       "    </tr>\n",
       "    <tr>\n",
       "      <th>2</th>\n",
       "      <td>4141</td>\n",
       "      <td>1965</td>\n",
       "      <td>Graduation</td>\n",
       "      <td>Together</td>\n",
       "      <td>71613.0</td>\n",
       "      <td>0</td>\n",
       "      <td>0</td>\n",
       "      <td>2013-08-21</td>\n",
       "      <td>26</td>\n",
       "      <td>426</td>\n",
       "      <td>...</td>\n",
       "      <td>0</td>\n",
       "      <td>0</td>\n",
       "      <td>0</td>\n",
       "      <td>0</td>\n",
       "      <td>0</td>\n",
       "      <td>0</td>\n",
       "      <td>3</td>\n",
       "      <td>11</td>\n",
       "      <td>0</td>\n",
       "      <td>21</td>\n",
       "    </tr>\n",
       "    <tr>\n",
       "      <th>3</th>\n",
       "      <td>6182</td>\n",
       "      <td>1984</td>\n",
       "      <td>Graduation</td>\n",
       "      <td>Together</td>\n",
       "      <td>26646.0</td>\n",
       "      <td>1</td>\n",
       "      <td>0</td>\n",
       "      <td>2014-02-10</td>\n",
       "      <td>26</td>\n",
       "      <td>11</td>\n",
       "      <td>...</td>\n",
       "      <td>0</td>\n",
       "      <td>0</td>\n",
       "      <td>0</td>\n",
       "      <td>0</td>\n",
       "      <td>0</td>\n",
       "      <td>0</td>\n",
       "      <td>3</td>\n",
       "      <td>11</td>\n",
       "      <td>0</td>\n",
       "      <td>8</td>\n",
       "    </tr>\n",
       "    <tr>\n",
       "      <th>4</th>\n",
       "      <td>5324</td>\n",
       "      <td>1981</td>\n",
       "      <td>PhD</td>\n",
       "      <td>Married</td>\n",
       "      <td>58293.0</td>\n",
       "      <td>1</td>\n",
       "      <td>0</td>\n",
       "      <td>2014-01-19</td>\n",
       "      <td>94</td>\n",
       "      <td>173</td>\n",
       "      <td>...</td>\n",
       "      <td>0</td>\n",
       "      <td>0</td>\n",
       "      <td>0</td>\n",
       "      <td>0</td>\n",
       "      <td>0</td>\n",
       "      <td>0</td>\n",
       "      <td>3</td>\n",
       "      <td>11</td>\n",
       "      <td>0</td>\n",
       "      <td>19</td>\n",
       "    </tr>\n",
       "  </tbody>\n",
       "</table>\n",
       "<p>5 rows × 30 columns</p>\n",
       "</div>"
      ],
      "text/plain": [
       "     ID  Year_Birth   Education Marital_Status   Income  Kidhome  Teenhome  \\\n",
       "0  5524        1957  Graduation         Single  58138.0        0         0   \n",
       "1  2174        1954  Graduation         Single  46344.0        1         1   \n",
       "2  4141        1965  Graduation       Together  71613.0        0         0   \n",
       "3  6182        1984  Graduation       Together  26646.0        1         0   \n",
       "4  5324        1981         PhD        Married  58293.0        1         0   \n",
       "\n",
       "  Dt_Customer  Recency  MntWines  ...  AcceptedCmp3  AcceptedCmp4  \\\n",
       "0  2012-09-04       58       635  ...             0             0   \n",
       "1  2014-03-08       38        11  ...             0             0   \n",
       "2  2013-08-21       26       426  ...             0             0   \n",
       "3  2014-02-10       26        11  ...             0             0   \n",
       "4  2014-01-19       94       173  ...             0             0   \n",
       "\n",
       "   AcceptedCmp5  AcceptedCmp1  AcceptedCmp2  Complain  Z_CostContact  \\\n",
       "0             0             0             0         0              3   \n",
       "1             0             0             0         0              3   \n",
       "2             0             0             0         0              3   \n",
       "3             0             0             0         0              3   \n",
       "4             0             0             0         0              3   \n",
       "\n",
       "   Z_Revenue  Response  Total_Frequency  \n",
       "0         11         1               25  \n",
       "1         11         0                6  \n",
       "2         11         0               21  \n",
       "3         11         0                8  \n",
       "4         11         0               19  \n",
       "\n",
       "[5 rows x 30 columns]"
      ]
     },
     "execution_count": 15,
     "metadata": {},
     "output_type": "execute_result"
    }
   ],
   "source": [
    "# Menambahakan kolom baru 'Recency' ke dalam DataFrame df yang sum dari num catalog, num store, num web, dan num deals\n",
    "df['Total_Frequency'] = df[['NumDealsPurchases', 'NumWebPurchases', 'NumCatalogPurchases', 'NumStorePurchases']].sum(axis=1)\n",
    "\n",
    "df.head()"
   ]
  },
  {
   "cell_type": "markdown",
   "id": "143b1026-bf2f-4209-b1e6-e50999f54d0c",
   "metadata": {},
   "source": [
    "- membuat kolom monetary berdaskan pada data Mnt (Amount setiap product)"
   ]
  },
  {
   "cell_type": "code",
   "execution_count": 16,
   "id": "6fefb759-c9f5-4834-b194-e5a2d6e64c31",
   "metadata": {},
   "outputs": [
    {
     "data": {
      "text/html": [
       "<div>\n",
       "<style scoped>\n",
       "    .dataframe tbody tr th:only-of-type {\n",
       "        vertical-align: middle;\n",
       "    }\n",
       "\n",
       "    .dataframe tbody tr th {\n",
       "        vertical-align: top;\n",
       "    }\n",
       "\n",
       "    .dataframe thead th {\n",
       "        text-align: right;\n",
       "    }\n",
       "</style>\n",
       "<table border=\"1\" class=\"dataframe\">\n",
       "  <thead>\n",
       "    <tr style=\"text-align: right;\">\n",
       "      <th></th>\n",
       "      <th>ID</th>\n",
       "      <th>Year_Birth</th>\n",
       "      <th>Education</th>\n",
       "      <th>Marital_Status</th>\n",
       "      <th>Income</th>\n",
       "      <th>Kidhome</th>\n",
       "      <th>Teenhome</th>\n",
       "      <th>Dt_Customer</th>\n",
       "      <th>Recency</th>\n",
       "      <th>MntWines</th>\n",
       "      <th>...</th>\n",
       "      <th>AcceptedCmp4</th>\n",
       "      <th>AcceptedCmp5</th>\n",
       "      <th>AcceptedCmp1</th>\n",
       "      <th>AcceptedCmp2</th>\n",
       "      <th>Complain</th>\n",
       "      <th>Z_CostContact</th>\n",
       "      <th>Z_Revenue</th>\n",
       "      <th>Response</th>\n",
       "      <th>Total_Frequency</th>\n",
       "      <th>Monetary</th>\n",
       "    </tr>\n",
       "  </thead>\n",
       "  <tbody>\n",
       "    <tr>\n",
       "      <th>0</th>\n",
       "      <td>5524</td>\n",
       "      <td>1957</td>\n",
       "      <td>Graduation</td>\n",
       "      <td>Single</td>\n",
       "      <td>58138.0</td>\n",
       "      <td>0</td>\n",
       "      <td>0</td>\n",
       "      <td>2012-09-04</td>\n",
       "      <td>58</td>\n",
       "      <td>635</td>\n",
       "      <td>...</td>\n",
       "      <td>0</td>\n",
       "      <td>0</td>\n",
       "      <td>0</td>\n",
       "      <td>0</td>\n",
       "      <td>0</td>\n",
       "      <td>3</td>\n",
       "      <td>11</td>\n",
       "      <td>1</td>\n",
       "      <td>25</td>\n",
       "      <td>1617</td>\n",
       "    </tr>\n",
       "    <tr>\n",
       "      <th>1</th>\n",
       "      <td>2174</td>\n",
       "      <td>1954</td>\n",
       "      <td>Graduation</td>\n",
       "      <td>Single</td>\n",
       "      <td>46344.0</td>\n",
       "      <td>1</td>\n",
       "      <td>1</td>\n",
       "      <td>2014-03-08</td>\n",
       "      <td>38</td>\n",
       "      <td>11</td>\n",
       "      <td>...</td>\n",
       "      <td>0</td>\n",
       "      <td>0</td>\n",
       "      <td>0</td>\n",
       "      <td>0</td>\n",
       "      <td>0</td>\n",
       "      <td>3</td>\n",
       "      <td>11</td>\n",
       "      <td>0</td>\n",
       "      <td>6</td>\n",
       "      <td>27</td>\n",
       "    </tr>\n",
       "    <tr>\n",
       "      <th>2</th>\n",
       "      <td>4141</td>\n",
       "      <td>1965</td>\n",
       "      <td>Graduation</td>\n",
       "      <td>Together</td>\n",
       "      <td>71613.0</td>\n",
       "      <td>0</td>\n",
       "      <td>0</td>\n",
       "      <td>2013-08-21</td>\n",
       "      <td>26</td>\n",
       "      <td>426</td>\n",
       "      <td>...</td>\n",
       "      <td>0</td>\n",
       "      <td>0</td>\n",
       "      <td>0</td>\n",
       "      <td>0</td>\n",
       "      <td>0</td>\n",
       "      <td>3</td>\n",
       "      <td>11</td>\n",
       "      <td>0</td>\n",
       "      <td>21</td>\n",
       "      <td>776</td>\n",
       "    </tr>\n",
       "    <tr>\n",
       "      <th>3</th>\n",
       "      <td>6182</td>\n",
       "      <td>1984</td>\n",
       "      <td>Graduation</td>\n",
       "      <td>Together</td>\n",
       "      <td>26646.0</td>\n",
       "      <td>1</td>\n",
       "      <td>0</td>\n",
       "      <td>2014-02-10</td>\n",
       "      <td>26</td>\n",
       "      <td>11</td>\n",
       "      <td>...</td>\n",
       "      <td>0</td>\n",
       "      <td>0</td>\n",
       "      <td>0</td>\n",
       "      <td>0</td>\n",
       "      <td>0</td>\n",
       "      <td>3</td>\n",
       "      <td>11</td>\n",
       "      <td>0</td>\n",
       "      <td>8</td>\n",
       "      <td>53</td>\n",
       "    </tr>\n",
       "    <tr>\n",
       "      <th>4</th>\n",
       "      <td>5324</td>\n",
       "      <td>1981</td>\n",
       "      <td>PhD</td>\n",
       "      <td>Married</td>\n",
       "      <td>58293.0</td>\n",
       "      <td>1</td>\n",
       "      <td>0</td>\n",
       "      <td>2014-01-19</td>\n",
       "      <td>94</td>\n",
       "      <td>173</td>\n",
       "      <td>...</td>\n",
       "      <td>0</td>\n",
       "      <td>0</td>\n",
       "      <td>0</td>\n",
       "      <td>0</td>\n",
       "      <td>0</td>\n",
       "      <td>3</td>\n",
       "      <td>11</td>\n",
       "      <td>0</td>\n",
       "      <td>19</td>\n",
       "      <td>422</td>\n",
       "    </tr>\n",
       "  </tbody>\n",
       "</table>\n",
       "<p>5 rows × 31 columns</p>\n",
       "</div>"
      ],
      "text/plain": [
       "     ID  Year_Birth   Education Marital_Status   Income  Kidhome  Teenhome  \\\n",
       "0  5524        1957  Graduation         Single  58138.0        0         0   \n",
       "1  2174        1954  Graduation         Single  46344.0        1         1   \n",
       "2  4141        1965  Graduation       Together  71613.0        0         0   \n",
       "3  6182        1984  Graduation       Together  26646.0        1         0   \n",
       "4  5324        1981         PhD        Married  58293.0        1         0   \n",
       "\n",
       "  Dt_Customer  Recency  MntWines  ...  AcceptedCmp4  AcceptedCmp5  \\\n",
       "0  2012-09-04       58       635  ...             0             0   \n",
       "1  2014-03-08       38        11  ...             0             0   \n",
       "2  2013-08-21       26       426  ...             0             0   \n",
       "3  2014-02-10       26        11  ...             0             0   \n",
       "4  2014-01-19       94       173  ...             0             0   \n",
       "\n",
       "   AcceptedCmp1  AcceptedCmp2  Complain  Z_CostContact  Z_Revenue  Response  \\\n",
       "0             0             0         0              3         11         1   \n",
       "1             0             0         0              3         11         0   \n",
       "2             0             0         0              3         11         0   \n",
       "3             0             0         0              3         11         0   \n",
       "4             0             0         0              3         11         0   \n",
       "\n",
       "   Total_Frequency  Monetary  \n",
       "0               25      1617  \n",
       "1                6        27  \n",
       "2               21       776  \n",
       "3                8        53  \n",
       "4               19       422  \n",
       "\n",
       "[5 rows x 31 columns]"
      ]
     },
     "execution_count": 16,
     "metadata": {},
     "output_type": "execute_result"
    }
   ],
   "source": [
    "# Menambahkan kolom baru 'Monetary' ke dalam DataFrame df yang merupakan jumlah dari kolom-kolom yang berhubungan dengan pengeluaran pelanggan\n",
    "df['Monetary'] = df[['MntWines', 'MntFruits', 'MntMeatProducts', 'MntFishProducts', 'MntSweetProducts', 'MntGoldProds']].sum(axis=1)\n",
    "\n",
    "df.head()"
   ]
  },
  {
   "cell_type": "code",
   "execution_count": 17,
   "id": "8348038a",
   "metadata": {},
   "outputs": [],
   "source": [
    "# menambahkan kolom baru 'Age' ke dalam DataFrame df yang merupakan selisih antara tahun analisis dan tahun lahir pelanggan\n",
    "df['Age'] = analysis_date.year - df['Year_Birth']"
   ]
  },
  {
   "cell_type": "code",
   "execution_count": 48,
   "id": "773b1da4",
   "metadata": {},
   "outputs": [
    {
     "data": {
      "text/html": [
       "<div>\n",
       "<style scoped>\n",
       "    .dataframe tbody tr th:only-of-type {\n",
       "        vertical-align: middle;\n",
       "    }\n",
       "\n",
       "    .dataframe tbody tr th {\n",
       "        vertical-align: top;\n",
       "    }\n",
       "\n",
       "    .dataframe thead th {\n",
       "        text-align: right;\n",
       "    }\n",
       "</style>\n",
       "<table border=\"1\" class=\"dataframe\">\n",
       "  <thead>\n",
       "    <tr style=\"text-align: right;\">\n",
       "      <th></th>\n",
       "      <th>ID</th>\n",
       "      <th>Year_Birth</th>\n",
       "      <th>Education</th>\n",
       "      <th>Marital_Status</th>\n",
       "      <th>Income</th>\n",
       "      <th>Kidhome</th>\n",
       "      <th>Teenhome</th>\n",
       "      <th>Dt_Customer</th>\n",
       "      <th>Recency</th>\n",
       "      <th>MntWines</th>\n",
       "      <th>...</th>\n",
       "      <th>AcceptedCmp2</th>\n",
       "      <th>Complain</th>\n",
       "      <th>Z_CostContact</th>\n",
       "      <th>Z_Revenue</th>\n",
       "      <th>Response</th>\n",
       "      <th>Total_Frequency</th>\n",
       "      <th>Monetary</th>\n",
       "      <th>Age</th>\n",
       "      <th>category_recency</th>\n",
       "      <th>total_accepted_cmp</th>\n",
       "    </tr>\n",
       "  </thead>\n",
       "  <tbody>\n",
       "    <tr>\n",
       "      <th>0</th>\n",
       "      <td>5524</td>\n",
       "      <td>1957</td>\n",
       "      <td>Graduation</td>\n",
       "      <td>Single</td>\n",
       "      <td>58138.0</td>\n",
       "      <td>0</td>\n",
       "      <td>0</td>\n",
       "      <td>2012-09-04</td>\n",
       "      <td>58</td>\n",
       "      <td>635</td>\n",
       "      <td>...</td>\n",
       "      <td>0</td>\n",
       "      <td>0</td>\n",
       "      <td>3</td>\n",
       "      <td>11</td>\n",
       "      <td>1</td>\n",
       "      <td>25</td>\n",
       "      <td>1617</td>\n",
       "      <td>57</td>\n",
       "      <td>aktif</td>\n",
       "      <td>0</td>\n",
       "    </tr>\n",
       "    <tr>\n",
       "      <th>1</th>\n",
       "      <td>2174</td>\n",
       "      <td>1954</td>\n",
       "      <td>Graduation</td>\n",
       "      <td>Single</td>\n",
       "      <td>46344.0</td>\n",
       "      <td>1</td>\n",
       "      <td>1</td>\n",
       "      <td>2014-03-08</td>\n",
       "      <td>38</td>\n",
       "      <td>11</td>\n",
       "      <td>...</td>\n",
       "      <td>0</td>\n",
       "      <td>0</td>\n",
       "      <td>3</td>\n",
       "      <td>11</td>\n",
       "      <td>0</td>\n",
       "      <td>6</td>\n",
       "      <td>27</td>\n",
       "      <td>60</td>\n",
       "      <td>aktif</td>\n",
       "      <td>0</td>\n",
       "    </tr>\n",
       "    <tr>\n",
       "      <th>2</th>\n",
       "      <td>4141</td>\n",
       "      <td>1965</td>\n",
       "      <td>Graduation</td>\n",
       "      <td>Together</td>\n",
       "      <td>71613.0</td>\n",
       "      <td>0</td>\n",
       "      <td>0</td>\n",
       "      <td>2013-08-21</td>\n",
       "      <td>26</td>\n",
       "      <td>426</td>\n",
       "      <td>...</td>\n",
       "      <td>0</td>\n",
       "      <td>0</td>\n",
       "      <td>3</td>\n",
       "      <td>11</td>\n",
       "      <td>0</td>\n",
       "      <td>21</td>\n",
       "      <td>776</td>\n",
       "      <td>49</td>\n",
       "      <td>sangat aktif</td>\n",
       "      <td>0</td>\n",
       "    </tr>\n",
       "    <tr>\n",
       "      <th>3</th>\n",
       "      <td>6182</td>\n",
       "      <td>1984</td>\n",
       "      <td>Graduation</td>\n",
       "      <td>Together</td>\n",
       "      <td>26646.0</td>\n",
       "      <td>1</td>\n",
       "      <td>0</td>\n",
       "      <td>2014-02-10</td>\n",
       "      <td>26</td>\n",
       "      <td>11</td>\n",
       "      <td>...</td>\n",
       "      <td>0</td>\n",
       "      <td>0</td>\n",
       "      <td>3</td>\n",
       "      <td>11</td>\n",
       "      <td>0</td>\n",
       "      <td>8</td>\n",
       "      <td>53</td>\n",
       "      <td>30</td>\n",
       "      <td>sangat aktif</td>\n",
       "      <td>0</td>\n",
       "    </tr>\n",
       "    <tr>\n",
       "      <th>4</th>\n",
       "      <td>5324</td>\n",
       "      <td>1981</td>\n",
       "      <td>PhD</td>\n",
       "      <td>Married</td>\n",
       "      <td>58293.0</td>\n",
       "      <td>1</td>\n",
       "      <td>0</td>\n",
       "      <td>2014-01-19</td>\n",
       "      <td>94</td>\n",
       "      <td>173</td>\n",
       "      <td>...</td>\n",
       "      <td>0</td>\n",
       "      <td>0</td>\n",
       "      <td>3</td>\n",
       "      <td>11</td>\n",
       "      <td>0</td>\n",
       "      <td>19</td>\n",
       "      <td>422</td>\n",
       "      <td>33</td>\n",
       "      <td>tidak aktif</td>\n",
       "      <td>0</td>\n",
       "    </tr>\n",
       "    <tr>\n",
       "      <th>...</th>\n",
       "      <td>...</td>\n",
       "      <td>...</td>\n",
       "      <td>...</td>\n",
       "      <td>...</td>\n",
       "      <td>...</td>\n",
       "      <td>...</td>\n",
       "      <td>...</td>\n",
       "      <td>...</td>\n",
       "      <td>...</td>\n",
       "      <td>...</td>\n",
       "      <td>...</td>\n",
       "      <td>...</td>\n",
       "      <td>...</td>\n",
       "      <td>...</td>\n",
       "      <td>...</td>\n",
       "      <td>...</td>\n",
       "      <td>...</td>\n",
       "      <td>...</td>\n",
       "      <td>...</td>\n",
       "      <td>...</td>\n",
       "      <td>...</td>\n",
       "    </tr>\n",
       "    <tr>\n",
       "      <th>2235</th>\n",
       "      <td>10870</td>\n",
       "      <td>1967</td>\n",
       "      <td>Graduation</td>\n",
       "      <td>Married</td>\n",
       "      <td>61223.0</td>\n",
       "      <td>0</td>\n",
       "      <td>1</td>\n",
       "      <td>2013-06-13</td>\n",
       "      <td>46</td>\n",
       "      <td>709</td>\n",
       "      <td>...</td>\n",
       "      <td>0</td>\n",
       "      <td>0</td>\n",
       "      <td>3</td>\n",
       "      <td>11</td>\n",
       "      <td>0</td>\n",
       "      <td>18</td>\n",
       "      <td>1341</td>\n",
       "      <td>47</td>\n",
       "      <td>aktif</td>\n",
       "      <td>0</td>\n",
       "    </tr>\n",
       "    <tr>\n",
       "      <th>2236</th>\n",
       "      <td>4001</td>\n",
       "      <td>1946</td>\n",
       "      <td>PhD</td>\n",
       "      <td>Together</td>\n",
       "      <td>64014.0</td>\n",
       "      <td>2</td>\n",
       "      <td>1</td>\n",
       "      <td>2014-06-10</td>\n",
       "      <td>56</td>\n",
       "      <td>406</td>\n",
       "      <td>...</td>\n",
       "      <td>0</td>\n",
       "      <td>0</td>\n",
       "      <td>3</td>\n",
       "      <td>11</td>\n",
       "      <td>0</td>\n",
       "      <td>22</td>\n",
       "      <td>444</td>\n",
       "      <td>68</td>\n",
       "      <td>aktif</td>\n",
       "      <td>1</td>\n",
       "    </tr>\n",
       "    <tr>\n",
       "      <th>2237</th>\n",
       "      <td>7270</td>\n",
       "      <td>1981</td>\n",
       "      <td>Graduation</td>\n",
       "      <td>Divorced</td>\n",
       "      <td>56981.0</td>\n",
       "      <td>0</td>\n",
       "      <td>0</td>\n",
       "      <td>2014-01-25</td>\n",
       "      <td>91</td>\n",
       "      <td>908</td>\n",
       "      <td>...</td>\n",
       "      <td>0</td>\n",
       "      <td>0</td>\n",
       "      <td>3</td>\n",
       "      <td>11</td>\n",
       "      <td>0</td>\n",
       "      <td>19</td>\n",
       "      <td>1241</td>\n",
       "      <td>33</td>\n",
       "      <td>tidak aktif</td>\n",
       "      <td>1</td>\n",
       "    </tr>\n",
       "    <tr>\n",
       "      <th>2238</th>\n",
       "      <td>8235</td>\n",
       "      <td>1956</td>\n",
       "      <td>Master</td>\n",
       "      <td>Together</td>\n",
       "      <td>69245.0</td>\n",
       "      <td>0</td>\n",
       "      <td>1</td>\n",
       "      <td>2014-01-24</td>\n",
       "      <td>8</td>\n",
       "      <td>428</td>\n",
       "      <td>...</td>\n",
       "      <td>0</td>\n",
       "      <td>0</td>\n",
       "      <td>3</td>\n",
       "      <td>11</td>\n",
       "      <td>0</td>\n",
       "      <td>23</td>\n",
       "      <td>843</td>\n",
       "      <td>58</td>\n",
       "      <td>sangat aktif</td>\n",
       "      <td>0</td>\n",
       "    </tr>\n",
       "    <tr>\n",
       "      <th>2239</th>\n",
       "      <td>9405</td>\n",
       "      <td>1954</td>\n",
       "      <td>PhD</td>\n",
       "      <td>Married</td>\n",
       "      <td>52869.0</td>\n",
       "      <td>1</td>\n",
       "      <td>1</td>\n",
       "      <td>2012-10-15</td>\n",
       "      <td>40</td>\n",
       "      <td>84</td>\n",
       "      <td>...</td>\n",
       "      <td>0</td>\n",
       "      <td>0</td>\n",
       "      <td>3</td>\n",
       "      <td>11</td>\n",
       "      <td>1</td>\n",
       "      <td>11</td>\n",
       "      <td>172</td>\n",
       "      <td>60</td>\n",
       "      <td>aktif</td>\n",
       "      <td>0</td>\n",
       "    </tr>\n",
       "  </tbody>\n",
       "</table>\n",
       "<p>2240 rows × 34 columns</p>\n",
       "</div>"
      ],
      "text/plain": [
       "         ID  Year_Birth   Education Marital_Status   Income  Kidhome  \\\n",
       "0      5524        1957  Graduation         Single  58138.0        0   \n",
       "1      2174        1954  Graduation         Single  46344.0        1   \n",
       "2      4141        1965  Graduation       Together  71613.0        0   \n",
       "3      6182        1984  Graduation       Together  26646.0        1   \n",
       "4      5324        1981         PhD        Married  58293.0        1   \n",
       "...     ...         ...         ...            ...      ...      ...   \n",
       "2235  10870        1967  Graduation        Married  61223.0        0   \n",
       "2236   4001        1946         PhD       Together  64014.0        2   \n",
       "2237   7270        1981  Graduation       Divorced  56981.0        0   \n",
       "2238   8235        1956      Master       Together  69245.0        0   \n",
       "2239   9405        1954         PhD        Married  52869.0        1   \n",
       "\n",
       "      Teenhome Dt_Customer  Recency  MntWines  ...  AcceptedCmp2  Complain  \\\n",
       "0            0  2012-09-04       58       635  ...             0         0   \n",
       "1            1  2014-03-08       38        11  ...             0         0   \n",
       "2            0  2013-08-21       26       426  ...             0         0   \n",
       "3            0  2014-02-10       26        11  ...             0         0   \n",
       "4            0  2014-01-19       94       173  ...             0         0   \n",
       "...        ...         ...      ...       ...  ...           ...       ...   \n",
       "2235         1  2013-06-13       46       709  ...             0         0   \n",
       "2236         1  2014-06-10       56       406  ...             0         0   \n",
       "2237         0  2014-01-25       91       908  ...             0         0   \n",
       "2238         1  2014-01-24        8       428  ...             0         0   \n",
       "2239         1  2012-10-15       40        84  ...             0         0   \n",
       "\n",
       "      Z_CostContact  Z_Revenue  Response  Total_Frequency  Monetary  Age  \\\n",
       "0                 3         11         1               25      1617   57   \n",
       "1                 3         11         0                6        27   60   \n",
       "2                 3         11         0               21       776   49   \n",
       "3                 3         11         0                8        53   30   \n",
       "4                 3         11         0               19       422   33   \n",
       "...             ...        ...       ...              ...       ...  ...   \n",
       "2235              3         11         0               18      1341   47   \n",
       "2236              3         11         0               22       444   68   \n",
       "2237              3         11         0               19      1241   33   \n",
       "2238              3         11         0               23       843   58   \n",
       "2239              3         11         1               11       172   60   \n",
       "\n",
       "      category_recency  total_accepted_cmp  \n",
       "0                aktif                   0  \n",
       "1                aktif                   0  \n",
       "2         sangat aktif                   0  \n",
       "3         sangat aktif                   0  \n",
       "4          tidak aktif                   0  \n",
       "...                ...                 ...  \n",
       "2235             aktif                   0  \n",
       "2236             aktif                   1  \n",
       "2237       tidak aktif                   1  \n",
       "2238      sangat aktif                   0  \n",
       "2239             aktif                   0  \n",
       "\n",
       "[2240 rows x 34 columns]"
      ]
     },
     "execution_count": 48,
     "metadata": {},
     "output_type": "execute_result"
    }
   ],
   "source": [
    "# menambahkan kolom kategori recency \n",
    "def cat_recency(recency):\n",
    "    if recency <= 30:\n",
    "        return 'sangat aktif'\n",
    "    elif 30 < recency <= 60:\n",
    "        return 'aktif'\n",
    "    elif 60 < recency <= 90:\n",
    "        return 'sangat lama'\n",
    "    elif recency > 90:\n",
    "        return 'tidak aktif'\n",
    "\n",
    "df['category_recency'] = df['Recency'].apply(cat_recency)\n",
    "df"
   ]
  },
  {
   "cell_type": "markdown",
   "id": "0f64d9cb",
   "metadata": {},
   "source": [
    "- Melakukan export data yang sudah dicleansing dan juga ditambhakan beberapa tabel"
   ]
  },
  {
   "cell_type": "code",
   "execution_count": 49,
   "id": "0aaf2d02",
   "metadata": {},
   "outputs": [],
   "source": [
    "df.to_csv('data_supermartket_cust_clean.csv', index=False)"
   ]
  },
  {
   "cell_type": "markdown",
   "id": "79a9169d-31f7-4a06-9fd0-bd2a7492863f",
   "metadata": {},
   "source": [
    "## LRFM\n",
    "Membuat sebuah dataframe customer dengan isi :\n",
    "- length (analysis_date - tanggal registrasi terakhir + 1 ),\n",
    "- recency paling sedikit,\n",
    "- total frequency, total monetary"
   ]
  },
  {
   "cell_type": "code",
   "execution_count": 18,
   "id": "4755870f-74f4-4be5-8fc0-827e11dedea7",
   "metadata": {},
   "outputs": [
    {
     "data": {
      "text/html": [
       "<div>\n",
       "<style scoped>\n",
       "    .dataframe tbody tr th:only-of-type {\n",
       "        vertical-align: middle;\n",
       "    }\n",
       "\n",
       "    .dataframe tbody tr th {\n",
       "        vertical-align: top;\n",
       "    }\n",
       "\n",
       "    .dataframe thead th {\n",
       "        text-align: right;\n",
       "    }\n",
       "</style>\n",
       "<table border=\"1\" class=\"dataframe\">\n",
       "  <thead>\n",
       "    <tr style=\"text-align: right;\">\n",
       "      <th></th>\n",
       "      <th>length</th>\n",
       "      <th>recency</th>\n",
       "      <th>frequency</th>\n",
       "      <th>monetary</th>\n",
       "    </tr>\n",
       "    <tr>\n",
       "      <th>ID</th>\n",
       "      <th></th>\n",
       "      <th></th>\n",
       "      <th></th>\n",
       "      <th></th>\n",
       "    </tr>\n",
       "  </thead>\n",
       "  <tbody>\n",
       "    <tr>\n",
       "      <th>1612</th>\n",
       "      <td>395</td>\n",
       "      <td>82</td>\n",
       "      <td>8</td>\n",
       "      <td>47</td>\n",
       "    </tr>\n",
       "    <tr>\n",
       "      <th>498</th>\n",
       "      <td>148</td>\n",
       "      <td>28</td>\n",
       "      <td>7</td>\n",
       "      <td>57</td>\n",
       "    </tr>\n",
       "    <tr>\n",
       "      <th>10591</th>\n",
       "      <td>693</td>\n",
       "      <td>37</td>\n",
       "      <td>11</td>\n",
       "      <td>201</td>\n",
       "    </tr>\n",
       "    <tr>\n",
       "      <th>6202</th>\n",
       "      <td>633</td>\n",
       "      <td>78</td>\n",
       "      <td>26</td>\n",
       "      <td>1005</td>\n",
       "    </tr>\n",
       "    <tr>\n",
       "      <th>5221</th>\n",
       "      <td>576</td>\n",
       "      <td>93</td>\n",
       "      <td>26</td>\n",
       "      <td>879</td>\n",
       "    </tr>\n",
       "  </tbody>\n",
       "</table>\n",
       "</div>"
      ],
      "text/plain": [
       "       length  recency  frequency  monetary\n",
       "ID                                         \n",
       "1612      395       82          8        47\n",
       "498       148       28          7        57\n",
       "10591     693       37         11       201\n",
       "6202      633       78         26      1005\n",
       "5221      576       93         26       879"
      ]
     },
     "execution_count": 18,
     "metadata": {},
     "output_type": "execute_result"
    }
   ],
   "source": [
    "df_customer = df.groupby('ID').agg(\n",
    "    length=('Dt_Customer', lambda x: (analysis_date - x.min()).days),\n",
    "    recency=('Recency', lambda x: (x.min())),\n",
    "    frequency=('Total_Frequency', 'sum'),\n",
    "    monetary=('Monetary', 'sum'),\n",
    ")\n",
    "\n",
    "df_customer.sample(5, random_state=42)"
   ]
  },
  {
   "cell_type": "markdown",
   "id": "fcdb5f31",
   "metadata": {},
   "source": [
    "Membuat segmentasi untuk lengthnya"
   ]
  },
  {
   "cell_type": "code",
   "execution_count": 19,
   "id": "063125a0",
   "metadata": {},
   "outputs": [
    {
     "data": {
      "image/png": "[encoded data removed]",
      "text/plain": [
       "<Figure size 750x500 with 2 Axes>"
      ]
     },
     "metadata": {},
     "output_type": "display_data"
    },
    {
     "data": {
      "text/plain": [
       "0.00      1.00\n",
       "0.25    181.75\n",
       "0.50    356.50\n",
       "0.75    530.00\n",
       "1.00    700.00\n",
       "Name: length, dtype: float64"
      ]
     },
     "metadata": {},
     "output_type": "display_data"
    }
   ],
   "source": [
    "fig, (ax_top, ax_bot) = plt.subplots(\n",
    "                            nrows=2,\n",
    "                            ncols=1,\n",
    "                            figsize=(7.5, 5),\n",
    "                            gridspec_kw={\n",
    "                                'height_ratios': (0.15, 0.85),\n",
    "                                'hspace': 0.05\n",
    "                            }\n",
    "                        )\n",
    "\n",
    "sns.boxplot(data=df_customer, x='length', ax=ax_top)\n",
    "sns.histplot(data=df_customer, x='length', ax=ax_bot)\n",
    "\n",
    "ax_top.set(\n",
    "    title='Duration of Customer Relationships by Days'\n",
    ")\n",
    "\n",
    "plt.show()\n",
    "display(df_customer['length'].quantile([0, 0.25, 0.5, 0.75, 1]))"
   ]
  },
  {
   "cell_type": "code",
   "execution_count": 20,
   "id": "531a99d3",
   "metadata": {},
   "outputs": [
    {
     "data": {
      "text/html": [
       "<div>\n",
       "<style scoped>\n",
       "    .dataframe tbody tr th:only-of-type {\n",
       "        vertical-align: middle;\n",
       "    }\n",
       "\n",
       "    .dataframe tbody tr th {\n",
       "        vertical-align: top;\n",
       "    }\n",
       "\n",
       "    .dataframe thead th {\n",
       "        text-align: right;\n",
       "    }\n",
       "</style>\n",
       "<table border=\"1\" class=\"dataframe\">\n",
       "  <thead>\n",
       "    <tr style=\"text-align: right;\">\n",
       "      <th></th>\n",
       "      <th>length</th>\n",
       "      <th>recency</th>\n",
       "      <th>frequency</th>\n",
       "      <th>monetary</th>\n",
       "      <th>l_score</th>\n",
       "    </tr>\n",
       "    <tr>\n",
       "      <th>ID</th>\n",
       "      <th></th>\n",
       "      <th></th>\n",
       "      <th></th>\n",
       "      <th></th>\n",
       "      <th></th>\n",
       "    </tr>\n",
       "  </thead>\n",
       "  <tbody>\n",
       "    <tr>\n",
       "      <th>1612</th>\n",
       "      <td>395</td>\n",
       "      <td>82</td>\n",
       "      <td>8</td>\n",
       "      <td>47</td>\n",
       "      <td>3</td>\n",
       "    </tr>\n",
       "    <tr>\n",
       "      <th>498</th>\n",
       "      <td>148</td>\n",
       "      <td>28</td>\n",
       "      <td>7</td>\n",
       "      <td>57</td>\n",
       "      <td>1</td>\n",
       "    </tr>\n",
       "    <tr>\n",
       "      <th>10591</th>\n",
       "      <td>693</td>\n",
       "      <td>37</td>\n",
       "      <td>11</td>\n",
       "      <td>201</td>\n",
       "      <td>4</td>\n",
       "    </tr>\n",
       "    <tr>\n",
       "      <th>6202</th>\n",
       "      <td>633</td>\n",
       "      <td>78</td>\n",
       "      <td>26</td>\n",
       "      <td>1005</td>\n",
       "      <td>4</td>\n",
       "    </tr>\n",
       "    <tr>\n",
       "      <th>5221</th>\n",
       "      <td>576</td>\n",
       "      <td>93</td>\n",
       "      <td>26</td>\n",
       "      <td>879</td>\n",
       "      <td>4</td>\n",
       "    </tr>\n",
       "  </tbody>\n",
       "</table>\n",
       "</div>"
      ],
      "text/plain": [
       "       length  recency  frequency  monetary  l_score\n",
       "ID                                                  \n",
       "1612      395       82          8        47        3\n",
       "498       148       28          7        57        1\n",
       "10591     693       37         11       201        4\n",
       "6202      633       78         26      1005        4\n",
       "5221      576       93         26       879        4"
      ]
     },
     "execution_count": 20,
     "metadata": {},
     "output_type": "execute_result"
    }
   ],
   "source": [
    "df_customer['l_score'] = pd.qcut(\n",
    "    df_customer['length'],              # data\n",
    "    q=4,                                # dibagi menjadi 4 kelompok sama banyak\n",
    "    labels=[1, 2, 3, 4]                 # pelabelan, untuk length: semakin lama, maka semakin besar skornya\n",
    ").astype(int)\n",
    "\n",
    "df_customer.sample(5, random_state=42)"
   ]
  },
  {
   "cell_type": "markdown",
   "id": "f18aff65",
   "metadata": {},
   "source": [
    "Membuat segmentasi untuk recency"
   ]
  },
  {
   "cell_type": "code",
   "execution_count": 21,
   "id": "e7bd5517",
   "metadata": {},
   "outputs": [
    {
     "data": {
      "image/png": "[encoded data removed]",
      "text/plain": [
       "<Figure size 750x500 with 2 Axes>"
      ]
     },
     "metadata": {},
     "output_type": "display_data"
    },
    {
     "data": {
      "text/plain": [
       "0.00     0.0\n",
       "0.25    24.0\n",
       "0.50    49.0\n",
       "0.75    74.0\n",
       "1.00    99.0\n",
       "Name: recency, dtype: float64"
      ]
     },
     "metadata": {},
     "output_type": "display_data"
    }
   ],
   "source": [
    "fig, (ax_top, ax_bot) = plt.subplots(\n",
    "                            nrows=2,\n",
    "                            ncols=1,\n",
    "                            figsize=(7.5, 5),\n",
    "                            gridspec_kw={\n",
    "                                'height_ratios': (0.15, 0.85),\n",
    "                                'hspace': 0.05\n",
    "                            }\n",
    "                        )\n",
    "\n",
    "sns.boxplot(data=df_customer, x='recency', ax=ax_top)\n",
    "sns.histplot(data=df_customer, x='recency', ax=ax_bot)\n",
    "\n",
    "ax_top.set(\n",
    "    title='Last Time Customer Order by Days'\n",
    ")\n",
    "\n",
    "plt.show()\n",
    "display(df_customer['recency'].quantile([0, 0.25, 0.5, 0.75, 1]))"
   ]
  },
  {
   "cell_type": "code",
   "execution_count": 22,
   "id": "65533d8d",
   "metadata": {},
   "outputs": [
    {
     "data": {
      "text/html": [
       "<div>\n",
       "<style scoped>\n",
       "    .dataframe tbody tr th:only-of-type {\n",
       "        vertical-align: middle;\n",
       "    }\n",
       "\n",
       "    .dataframe tbody tr th {\n",
       "        vertical-align: top;\n",
       "    }\n",
       "\n",
       "    .dataframe thead th {\n",
       "        text-align: right;\n",
       "    }\n",
       "</style>\n",
       "<table border=\"1\" class=\"dataframe\">\n",
       "  <thead>\n",
       "    <tr style=\"text-align: right;\">\n",
       "      <th></th>\n",
       "      <th>length</th>\n",
       "      <th>recency</th>\n",
       "      <th>frequency</th>\n",
       "      <th>monetary</th>\n",
       "      <th>l_score</th>\n",
       "      <th>r_score</th>\n",
       "    </tr>\n",
       "    <tr>\n",
       "      <th>ID</th>\n",
       "      <th></th>\n",
       "      <th></th>\n",
       "      <th></th>\n",
       "      <th></th>\n",
       "      <th></th>\n",
       "      <th></th>\n",
       "    </tr>\n",
       "  </thead>\n",
       "  <tbody>\n",
       "    <tr>\n",
       "      <th>1612</th>\n",
       "      <td>395</td>\n",
       "      <td>82</td>\n",
       "      <td>8</td>\n",
       "      <td>47</td>\n",
       "      <td>3</td>\n",
       "      <td>2</td>\n",
       "    </tr>\n",
       "    <tr>\n",
       "      <th>498</th>\n",
       "      <td>148</td>\n",
       "      <td>28</td>\n",
       "      <td>7</td>\n",
       "      <td>57</td>\n",
       "      <td>1</td>\n",
       "      <td>4</td>\n",
       "    </tr>\n",
       "    <tr>\n",
       "      <th>10591</th>\n",
       "      <td>693</td>\n",
       "      <td>37</td>\n",
       "      <td>11</td>\n",
       "      <td>201</td>\n",
       "      <td>4</td>\n",
       "      <td>3</td>\n",
       "    </tr>\n",
       "    <tr>\n",
       "      <th>6202</th>\n",
       "      <td>633</td>\n",
       "      <td>78</td>\n",
       "      <td>26</td>\n",
       "      <td>1005</td>\n",
       "      <td>4</td>\n",
       "      <td>2</td>\n",
       "    </tr>\n",
       "    <tr>\n",
       "      <th>5221</th>\n",
       "      <td>576</td>\n",
       "      <td>93</td>\n",
       "      <td>26</td>\n",
       "      <td>879</td>\n",
       "      <td>4</td>\n",
       "      <td>1</td>\n",
       "    </tr>\n",
       "  </tbody>\n",
       "</table>\n",
       "</div>"
      ],
      "text/plain": [
       "       length  recency  frequency  monetary  l_score  r_score\n",
       "ID                                                           \n",
       "1612      395       82          8        47        3        2\n",
       "498       148       28          7        57        1        4\n",
       "10591     693       37         11       201        4        3\n",
       "6202      633       78         26      1005        4        2\n",
       "5221      576       93         26       879        4        1"
      ]
     },
     "execution_count": 22,
     "metadata": {},
     "output_type": "execute_result"
    }
   ],
   "source": [
    "def r_score(x): #untuk recency dibagi perbulan, semakin rendah recency maka semakin tinggi skornya\n",
    "    if x <= 30:\n",
    "        return 4\n",
    "    elif 30 < x <= 60:\n",
    "        return 3\n",
    "    elif 60 < x <= 90:\n",
    "        return 2\n",
    "    else:\n",
    "        return 1\n",
    "\n",
    "df_customer['r_score'] = df_customer['recency'].apply(r_score)\n",
    "df_customer.sample(5, random_state=42)"
   ]
  },
  {
   "cell_type": "markdown",
   "id": "09760446",
   "metadata": {},
   "source": [
    "Membuat segmentasi frequency"
   ]
  },
  {
   "cell_type": "code",
   "execution_count": 23,
   "id": "83fe336e",
   "metadata": {},
   "outputs": [
    {
     "data": {
      "image/png": "[encoded data removed]",
      "text/plain": [
       "<Figure size 750x500 with 2 Axes>"
      ]
     },
     "metadata": {},
     "output_type": "display_data"
    },
    {
     "data": {
      "text/plain": [
       "0.00     0.0\n",
       "0.25     8.0\n",
       "0.50    15.0\n",
       "0.75    21.0\n",
       "1.00    44.0\n",
       "Name: frequency, dtype: float64"
      ]
     },
     "metadata": {},
     "output_type": "display_data"
    }
   ],
   "source": [
    "fig, (ax_top, ax_bot) = plt.subplots(\n",
    "                            nrows=2,\n",
    "                            ncols=1,\n",
    "                            figsize=(7.5, 5),\n",
    "                            gridspec_kw={\n",
    "                                'height_ratios': (0.15, 0.85),\n",
    "                                'hspace': 0.05\n",
    "                            }\n",
    "                        )\n",
    "\n",
    "sns.boxplot(data=df_customer, x='frequency', ax=ax_top)\n",
    "sns.histplot(data=df_customer, x='frequency', ax=ax_bot)\n",
    "\n",
    "ax_top.set(\n",
    "    title='Total Transactions by Customer'\n",
    ")\n",
    "\n",
    "plt.show()\n",
    "display(df_customer['frequency'].quantile([0, 0.25, 0.5, 0.75, 1]))"
   ]
  },
  {
   "cell_type": "code",
   "execution_count": 24,
   "id": "6dbacf9a",
   "metadata": {},
   "outputs": [
    {
     "data": {
      "text/html": [
       "<div>\n",
       "<style scoped>\n",
       "    .dataframe tbody tr th:only-of-type {\n",
       "        vertical-align: middle;\n",
       "    }\n",
       "\n",
       "    .dataframe tbody tr th {\n",
       "        vertical-align: top;\n",
       "    }\n",
       "\n",
       "    .dataframe thead th {\n",
       "        text-align: right;\n",
       "    }\n",
       "</style>\n",
       "<table border=\"1\" class=\"dataframe\">\n",
       "  <thead>\n",
       "    <tr style=\"text-align: right;\">\n",
       "      <th></th>\n",
       "      <th>length</th>\n",
       "      <th>recency</th>\n",
       "      <th>frequency</th>\n",
       "      <th>monetary</th>\n",
       "      <th>l_score</th>\n",
       "      <th>r_score</th>\n",
       "      <th>f_score</th>\n",
       "    </tr>\n",
       "    <tr>\n",
       "      <th>ID</th>\n",
       "      <th></th>\n",
       "      <th></th>\n",
       "      <th></th>\n",
       "      <th></th>\n",
       "      <th></th>\n",
       "      <th></th>\n",
       "      <th></th>\n",
       "    </tr>\n",
       "  </thead>\n",
       "  <tbody>\n",
       "    <tr>\n",
       "      <th>1612</th>\n",
       "      <td>395</td>\n",
       "      <td>82</td>\n",
       "      <td>8</td>\n",
       "      <td>47</td>\n",
       "      <td>3</td>\n",
       "      <td>2</td>\n",
       "      <td>1</td>\n",
       "    </tr>\n",
       "    <tr>\n",
       "      <th>498</th>\n",
       "      <td>148</td>\n",
       "      <td>28</td>\n",
       "      <td>7</td>\n",
       "      <td>57</td>\n",
       "      <td>1</td>\n",
       "      <td>4</td>\n",
       "      <td>1</td>\n",
       "    </tr>\n",
       "    <tr>\n",
       "      <th>10591</th>\n",
       "      <td>693</td>\n",
       "      <td>37</td>\n",
       "      <td>11</td>\n",
       "      <td>201</td>\n",
       "      <td>4</td>\n",
       "      <td>3</td>\n",
       "      <td>2</td>\n",
       "    </tr>\n",
       "    <tr>\n",
       "      <th>6202</th>\n",
       "      <td>633</td>\n",
       "      <td>78</td>\n",
       "      <td>26</td>\n",
       "      <td>1005</td>\n",
       "      <td>4</td>\n",
       "      <td>2</td>\n",
       "      <td>4</td>\n",
       "    </tr>\n",
       "    <tr>\n",
       "      <th>5221</th>\n",
       "      <td>576</td>\n",
       "      <td>93</td>\n",
       "      <td>26</td>\n",
       "      <td>879</td>\n",
       "      <td>4</td>\n",
       "      <td>1</td>\n",
       "      <td>4</td>\n",
       "    </tr>\n",
       "  </tbody>\n",
       "</table>\n",
       "</div>"
      ],
      "text/plain": [
       "       length  recency  frequency  monetary  l_score  r_score  f_score\n",
       "ID                                                                    \n",
       "1612      395       82          8        47        3        2        1\n",
       "498       148       28          7        57        1        4        1\n",
       "10591     693       37         11       201        4        3        2\n",
       "6202      633       78         26      1005        4        2        4\n",
       "5221      576       93         26       879        4        1        4"
      ]
     },
     "execution_count": 24,
     "metadata": {},
     "output_type": "execute_result"
    }
   ],
   "source": [
    "df_customer['f_score'] = pd.qcut(\n",
    "    df_customer['frequency'],             # data\n",
    "    q=4,                                # dibagi menjadi 4 kelompok sama banyak\n",
    "    labels=[1, 2, 3, 4]                 # pelabelan, untuk freq: semakin besar, maka semakin besar skornya\n",
    ").astype(int)\n",
    "\n",
    "df_customer.sample(5, random_state=42)"
   ]
  },
  {
   "cell_type": "markdown",
   "id": "19ed6cf9",
   "metadata": {},
   "source": [
    "Membuat segmentas Monetary"
   ]
  },
  {
   "cell_type": "code",
   "execution_count": 25,
   "id": "1d6d7672",
   "metadata": {},
   "outputs": [
    {
     "data": {
      "image/png": "[encoded data removed]",
      "text/plain": [
       "<Figure size 750x500 with 2 Axes>"
      ]
     },
     "metadata": {},
     "output_type": "display_data"
    },
    {
     "data": {
      "text/plain": [
       "0.00       5.00\n",
       "0.25      68.75\n",
       "0.50     396.00\n",
       "0.75    1045.50\n",
       "1.00    2525.00\n",
       "Name: monetary, dtype: float64"
      ]
     },
     "metadata": {},
     "output_type": "display_data"
    }
   ],
   "source": [
    "fig, (ax_top, ax_bot) = plt.subplots(\n",
    "                            nrows=2,\n",
    "                            ncols=1,\n",
    "                            figsize=(7.5, 5),\n",
    "                            gridspec_kw={\n",
    "                                'height_ratios': (0.15, 0.85),\n",
    "                                'hspace': 0.05\n",
    "                            }\n",
    "                        )\n",
    "\n",
    "sns.boxplot(data=df_customer, x='monetary', ax=ax_top)\n",
    "sns.histplot(data=df_customer, x='monetary', ax=ax_bot)\n",
    "\n",
    "ax_top.set(\n",
    "    title='Total Revenue by Customer'\n",
    ")\n",
    "\n",
    "plt.show()\n",
    "display(df_customer['monetary'].quantile([0, 0.25, 0.5, 0.75, 1]))"
   ]
  },
  {
   "cell_type": "code",
   "execution_count": 26,
   "id": "a8d2e43b",
   "metadata": {},
   "outputs": [
    {
     "data": {
      "text/html": [
       "<div>\n",
       "<style scoped>\n",
       "    .dataframe tbody tr th:only-of-type {\n",
       "        vertical-align: middle;\n",
       "    }\n",
       "\n",
       "    .dataframe tbody tr th {\n",
       "        vertical-align: top;\n",
       "    }\n",
       "\n",
       "    .dataframe thead th {\n",
       "        text-align: right;\n",
       "    }\n",
       "</style>\n",
       "<table border=\"1\" class=\"dataframe\">\n",
       "  <thead>\n",
       "    <tr style=\"text-align: right;\">\n",
       "      <th></th>\n",
       "      <th>length</th>\n",
       "      <th>recency</th>\n",
       "      <th>frequency</th>\n",
       "      <th>monetary</th>\n",
       "      <th>l_score</th>\n",
       "      <th>r_score</th>\n",
       "      <th>f_score</th>\n",
       "      <th>m_score</th>\n",
       "    </tr>\n",
       "    <tr>\n",
       "      <th>ID</th>\n",
       "      <th></th>\n",
       "      <th></th>\n",
       "      <th></th>\n",
       "      <th></th>\n",
       "      <th></th>\n",
       "      <th></th>\n",
       "      <th></th>\n",
       "      <th></th>\n",
       "    </tr>\n",
       "  </thead>\n",
       "  <tbody>\n",
       "    <tr>\n",
       "      <th>1612</th>\n",
       "      <td>395</td>\n",
       "      <td>82</td>\n",
       "      <td>8</td>\n",
       "      <td>47</td>\n",
       "      <td>3</td>\n",
       "      <td>2</td>\n",
       "      <td>1</td>\n",
       "      <td>1</td>\n",
       "    </tr>\n",
       "    <tr>\n",
       "      <th>498</th>\n",
       "      <td>148</td>\n",
       "      <td>28</td>\n",
       "      <td>7</td>\n",
       "      <td>57</td>\n",
       "      <td>1</td>\n",
       "      <td>4</td>\n",
       "      <td>1</td>\n",
       "      <td>1</td>\n",
       "    </tr>\n",
       "    <tr>\n",
       "      <th>10591</th>\n",
       "      <td>693</td>\n",
       "      <td>37</td>\n",
       "      <td>11</td>\n",
       "      <td>201</td>\n",
       "      <td>4</td>\n",
       "      <td>3</td>\n",
       "      <td>2</td>\n",
       "      <td>2</td>\n",
       "    </tr>\n",
       "    <tr>\n",
       "      <th>6202</th>\n",
       "      <td>633</td>\n",
       "      <td>78</td>\n",
       "      <td>26</td>\n",
       "      <td>1005</td>\n",
       "      <td>4</td>\n",
       "      <td>2</td>\n",
       "      <td>4</td>\n",
       "      <td>3</td>\n",
       "    </tr>\n",
       "    <tr>\n",
       "      <th>5221</th>\n",
       "      <td>576</td>\n",
       "      <td>93</td>\n",
       "      <td>26</td>\n",
       "      <td>879</td>\n",
       "      <td>4</td>\n",
       "      <td>1</td>\n",
       "      <td>4</td>\n",
       "      <td>3</td>\n",
       "    </tr>\n",
       "  </tbody>\n",
       "</table>\n",
       "</div>"
      ],
      "text/plain": [
       "       length  recency  frequency  monetary  l_score  r_score  f_score  \\\n",
       "ID                                                                       \n",
       "1612      395       82          8        47        3        2        1   \n",
       "498       148       28          7        57        1        4        1   \n",
       "10591     693       37         11       201        4        3        2   \n",
       "6202      633       78         26      1005        4        2        4   \n",
       "5221      576       93         26       879        4        1        4   \n",
       "\n",
       "       m_score  \n",
       "ID              \n",
       "1612         1  \n",
       "498          1  \n",
       "10591        2  \n",
       "6202         3  \n",
       "5221         3  "
      ]
     },
     "execution_count": 26,
     "metadata": {},
     "output_type": "execute_result"
    }
   ],
   "source": [
    "df_customer['m_score'] = pd.qcut(\n",
    "    df_customer['monetary'],            # data\n",
    "    q=4,                                # dibagi menjadi 4 kelompok sama banyak\n",
    "    labels=[1, 2, 3, 4]                 # pelabelan, untuk monetary: semakin besar, maka semakin besar skornya\n",
    ").astype(int)\n",
    "\n",
    "df_customer.sample(5, random_state=42)"
   ]
  },
  {
   "cell_type": "markdown",
   "id": "f23f0acc",
   "metadata": {},
   "source": [
    "Membuat segmentasi LRFM menggunakan KMeans (KNN)"
   ]
  },
  {
   "cell_type": "code",
   "execution_count": 27,
   "id": "385c9f13",
   "metadata": {},
   "outputs": [
    {
     "data": {
      "text/html": [
       "<div>\n",
       "<style scoped>\n",
       "    .dataframe tbody tr th:only-of-type {\n",
       "        vertical-align: middle;\n",
       "    }\n",
       "\n",
       "    .dataframe tbody tr th {\n",
       "        vertical-align: top;\n",
       "    }\n",
       "\n",
       "    .dataframe thead th {\n",
       "        text-align: right;\n",
       "    }\n",
       "</style>\n",
       "<table border=\"1\" class=\"dataframe\">\n",
       "  <thead>\n",
       "    <tr style=\"text-align: right;\">\n",
       "      <th></th>\n",
       "      <th>length</th>\n",
       "      <th>recency</th>\n",
       "      <th>frequency</th>\n",
       "      <th>monetary</th>\n",
       "      <th>l_score</th>\n",
       "      <th>r_score</th>\n",
       "      <th>f_score</th>\n",
       "      <th>m_score</th>\n",
       "      <th>lrfm_segment_clustering</th>\n",
       "    </tr>\n",
       "    <tr>\n",
       "      <th>ID</th>\n",
       "      <th></th>\n",
       "      <th></th>\n",
       "      <th></th>\n",
       "      <th></th>\n",
       "      <th></th>\n",
       "      <th></th>\n",
       "      <th></th>\n",
       "      <th></th>\n",
       "      <th></th>\n",
       "    </tr>\n",
       "  </thead>\n",
       "  <tbody>\n",
       "    <tr>\n",
       "      <th>1612</th>\n",
       "      <td>395</td>\n",
       "      <td>82</td>\n",
       "      <td>8</td>\n",
       "      <td>47</td>\n",
       "      <td>3</td>\n",
       "      <td>2</td>\n",
       "      <td>1</td>\n",
       "      <td>1</td>\n",
       "      <td>0</td>\n",
       "    </tr>\n",
       "    <tr>\n",
       "      <th>498</th>\n",
       "      <td>148</td>\n",
       "      <td>28</td>\n",
       "      <td>7</td>\n",
       "      <td>57</td>\n",
       "      <td>1</td>\n",
       "      <td>4</td>\n",
       "      <td>1</td>\n",
       "      <td>1</td>\n",
       "      <td>0</td>\n",
       "    </tr>\n",
       "    <tr>\n",
       "      <th>10591</th>\n",
       "      <td>693</td>\n",
       "      <td>37</td>\n",
       "      <td>11</td>\n",
       "      <td>201</td>\n",
       "      <td>4</td>\n",
       "      <td>3</td>\n",
       "      <td>2</td>\n",
       "      <td>2</td>\n",
       "      <td>0</td>\n",
       "    </tr>\n",
       "    <tr>\n",
       "      <th>6202</th>\n",
       "      <td>633</td>\n",
       "      <td>78</td>\n",
       "      <td>26</td>\n",
       "      <td>1005</td>\n",
       "      <td>4</td>\n",
       "      <td>2</td>\n",
       "      <td>4</td>\n",
       "      <td>3</td>\n",
       "      <td>1</td>\n",
       "    </tr>\n",
       "    <tr>\n",
       "      <th>5221</th>\n",
       "      <td>576</td>\n",
       "      <td>93</td>\n",
       "      <td>26</td>\n",
       "      <td>879</td>\n",
       "      <td>4</td>\n",
       "      <td>1</td>\n",
       "      <td>4</td>\n",
       "      <td>3</td>\n",
       "      <td>1</td>\n",
       "    </tr>\n",
       "  </tbody>\n",
       "</table>\n",
       "</div>"
      ],
      "text/plain": [
       "       length  recency  frequency  monetary  l_score  r_score  f_score  \\\n",
       "ID                                                                       \n",
       "1612      395       82          8        47        3        2        1   \n",
       "498       148       28          7        57        1        4        1   \n",
       "10591     693       37         11       201        4        3        2   \n",
       "6202      633       78         26      1005        4        2        4   \n",
       "5221      576       93         26       879        4        1        4   \n",
       "\n",
       "       m_score lrfm_segment_clustering  \n",
       "ID                                      \n",
       "1612         1                       0  \n",
       "498          1                       0  \n",
       "10591        2                       0  \n",
       "6202         3                       1  \n",
       "5221         3                       1  "
      ]
     },
     "execution_count": 27,
     "metadata": {},
     "output_type": "execute_result"
    }
   ],
   "source": [
    "# import library yang dibutuhkan\n",
    "from sklearn.cluster import KMeans\n",
    "\n",
    "# mendefinisikan model kmeans dengan jumlah cluster 3\n",
    "model = KMeans(n_clusters=3, random_state=42)\n",
    "\n",
    "# fitting model\n",
    "model.fit(df_customer.loc[:, 'length':'monetary'])\n",
    "\n",
    "# menambahkan label\n",
    "df_customer['lrfm_segment_clustering'] = model.labels_.astype(str)\n",
    "df_customer.sample(5, random_state=42)"
   ]
  },
  {
   "cell_type": "code",
   "execution_count": 28,
   "id": "1f06fd13",
   "metadata": {},
   "outputs": [
    {
     "data": {
      "image/png": "[encoded data removed]",
      "text/plain": [
       "<Figure size 640x480 with 2 Axes>"
      ]
     },
     "metadata": {},
     "output_type": "display_data"
    }
   ],
   "source": [
    "lrfm_heatmap = df_customer.pivot_table(index='lrfm_segment_clustering', values=['length', 'recency', 'frequency', 'monetary'], aggfunc='median')\n",
    "\n",
    "# Create the heatmap\n",
    "sns.heatmap(lrfm_heatmap, cmap='YlGnBu', annot=True, fmt=\".2f\")\n",
    "plt.title('LRFM Analysis Heatmap')\n",
    "plt.show()"
   ]
  },
  {
   "cell_type": "code",
   "execution_count": 29,
   "id": "d49854dc",
   "metadata": {},
   "outputs": [
    {
     "data": {
      "application/vnd.plotly.v1+json": {
       "config": {
        "plotlyServerURL": "https://plot.ly"
       },
       "data": [
        {
         "hovertemplate": "lrfm_segment_clustering=1<br>recency=%{x}<br>frequency=%{y}<br>monetary=%{z}<extra></extra>",
         "legendgroup": "1",
         "marker": {
          "color": "green",
          "size": 3,
          "symbol": "circle"
         },
         "mode": "markers",
         "name": "1",
         "scene": "scene",
         "showlegend": true,
         "type": "scatter3d",
         "x": {
          "bdata": "QgBRCVNcSQMoNkwLSkcNTTBRSk9EQiopOTAJGyoSM1dRTBEzPTobPwgbQBExVFovQQQwA0VcImJUXzAfGgUsGAo0OxoRVwUXLgc2MR1gODcZSBgBOlQMOxkQVFdIHQEICVQ2FmMXADcpXFUCP0FdIjgARFJeEy1HOVZiDDZXFEVjUyNTIhgmQRgjG18xTh0VQk84VUBYCiI2PRgZYxlDXRUfRjNZPz8HXy81QD8SG1hWViY8WUEbOVwqYENACzY4KREgBk5eU0QwSh01E0VBOw1GSCIeDwEEUyMwTiQkHDZcIi4iUBNNAzdMYwApSTMdRBoYBhQqJTAgDkADAl0EV0MDV1w7MhgSQSwoHBEqLRFINyoDXjYMXFYYHVpaVTNKLgxXASAeOg0EUzspFV0TQFMqAkYAPwgxSFxfLGJcCBcPRlcgPV9fF04ZPD5NQEEuJDJOFT4bQC4cHVdTEhQlJUlNSggSPzM2VQsnLhwlPxsDFWJMBCYhFzdJPBMsVVhQEkc5JlcYSS1IDjs0OjFFSDBbA0RVBgBUIi0QQ10eISJGUFhEJCFROlMMVzgdDDwXBxUdME8jMkhYWAkIMigAYTNeBDZhPTI/HAQ1LlBFRAkjCwQmMWAzO102BCdQUTlIJiEkE1EFLBVdMwUmVD0OORNEOTlNIBgdQgRaTzYTCi4BDEFQCDAYDDlBRycZAzJQCEthJDU2YxlUAkIdBU4VFWNUJjhNGkcLAkk4Vx5DPDomNTZWDh0AHhUDTRcwUgNbDTxBFz9ISTcWJlJBMi4/XRwANBsREk1USBIEEQ==",
          "dtype": "i1"
         },
         "y": {
          "bdata": "ERIcFRYPDREaEScRFBUNFhMVFBAVFhcXFRwVEhIbDhUeFBYZGRISGxcVFxoTGRcZFhYaHBQRFRkSGRsYGBoUGxoPExkUFhoUGRkRGhwTFBYgEBcVEBkcGx8OGhAdGBAaFRYREAsVDxURGxkQERETFRAWFBAWEg4bFhcXHxEUIBAQFB0XEhYSEhQZFRoPGBEXEBAaFBIXGhoaEhsWGh8VGBoQIBcUEBAUFhkYER0WFRYPExQTHQ4UFh8UDhEWGhUXGx4dGQ8OEw0TIBwWERQOGh0SGxoRFRgXFxcbGhoaGBUZHBgSGRgbGxcWEhwXEBQQFxUWFxQVHBEPFxYQFxISGhMcFhMbFREbGhkTGBUcFRMcFhkWHQ0VExcRHBIVDhcUGBEYEBIUHBoRDRYdExobFBUUERwfIBQZDhUYFRwSHhwWFw8VGhcVFhUUFxkWGA4YGxcaGxgQFhoYHhETFBERHxAYFxMUGxkVFBMaDxEgIBkZERcMFRETHBUSFhAZEhQXFxUaIBgfEwwfGhYZEhIbFhkTDxUOGxEQFhUWExcYExcYFx4TChAUFhcYFRQMGRYTFxgZHhEVEQ4YIRUXEhYfDxwSHREaEhsdExIYGBwVFRkUFRwaGRcWGRMgHRATHBcaEhEaFRkbFxsTDhoVFxASGCAQFxcPExkRFhkcGxEUEw4QFxQXHBcfGhMWGxAaEBwaHBEQDxEVFBYZFxAZHREYGxQQFhQfFA8TGBkWFRUXEhEUFxEPDxYQGBgVGBQRExQZGhwTFhELGhsWGRMUERQgGREaDhIXDhoRFxIRGg==",
          "dtype": "i1"
         },
         "z": {
          "bdata": "rgRBAgQEWwRVAuEDvQOsBM0D0gQ6BFkCvwR3BNUDhQRNBD0CQQKEBBoD1wJ4AgMEGwNvBOoCrgRFAgoD0APEAooDpQIdA2ICAgSbBE8E0AMrAzcDUwIvBIECTwTrAiUDlAL1AoICmgRSAlwDTgKzAqkE2gLEA/0DdAMmBFQC6QMKBPwDPgT7A3sErQJqA40CTQOoA9wEhwPsA9UCqwJKAsQE2AO2AuUErAN9BMoEJAScBKADVgMvAuIE7QJQBA8EtAIVA8AD5wMhA6gCpgTQBLICRwOUAn0DzAOQBH0EKAQXBLgEbgJOBLYCMQIABWQDOQMCA3sCKQTcBAME3QJJBLkDCAV/AzMDYAIwAzMCFgJMAy8DzgRDA6QDdgJ9BIsDZwR3BI4DywLPBFEDCgQxBNgEwQPpA9sCmwScBBwEigMdAuMDwQSgA/AE3gPeAwEFqARnA4YDPAR+BGQCNwOXAhIEzgSeAuIEXQTAA2ACjQOABB4CtAO9A4wD3gLVA70DiAPgAuwEbQPOA0QEMQTHA00E6wJyBF4CgARCAqADCwOQAsACXAODBJ0DQwPwA2QD/gJdA8QD7QNHBEcE7gMBA3oDlAOWAmACogOvA68EYwTKBCsDNgS/BGkDfwPVAjQEgwMIA6cCrwMLBawCkQORBD8CSQOMA0MEFQMiAo0CjQLMBJoE4gRBA5EEkAIJAwoDNwTSA+UExgLZBEQESgIyAssDSgKQBMoCVQRkAxgDQQPcAgkDugSGBGUDCQSgA2MCyQPqBCgExQNAAvkCHgN5Ax0EfAPbAhkDfgJvA30CMgKGA1kEKgQ9BKwClgQdAyID3APfAhkD2AICBbQCSwSlBPsCZQTZA+8EQANyA48CfwKYApME/AKpA4UEMQKEA8kDqwOFA+0DywMHA9YDjAPVAy0DXwN6BCECmwT2BGoETgRaA4YDsgNeAk0E0ANkAtUDqgKJBNcCXQRuBKoElgQsBK0CvQT/AqMEKQMRAjQC3ALsAwAEBAMmBNIDhQR9AkIDMQMtA/0D3QQoBK4E2gQ5A6EDNAM3A9ECIQIDBW8EXgJkAtkEFATIAwkEMASoBEACPQKwAswCOgL1BDkDNALdAyUDEwMYBHoCxwKBAukCwAQzAyAD2AKWAjIDHASeA5cELQIJBMYDpwR/BEQEUgSSA5UCWwMsAksDhwQaA6wChgPgA6gC7wKNBBkEoAMOBH4EpASsBIYDNAI4BB4CyAOOAkkEvgJoBPQD2gJbA2AEdQQSArsEWwJLAikEGARyA9ADBQQFBGEEJwJzBOkDvQSLA+sC0ANqA3wCawTjAzgC/QT6BGAEXgJeAoQDXQJ9An0E9gLwA80ECgTSBJgC1QLDA9YC3QKeBBgD+ANnAq4EGwOVBJQCGQRLAvwDQwQTBPUDjwRAAvEDbQNRBAED3gLUAlwDEARnBEAEWAQrBHIDiwOxAkACsgPVBKEEZgL0AloCngNyAwYFPgJFBEEEDwXZAhACeQLeA+kDHQMbA4QEwAMJBPYCsQONApEEiQSVBJUDeQO7BLUCfgMiAuoCFQTNA3UCNAP4BJ4EkwN8ApYE6wNXAsACqwOuBKIDUgN8BKoDlQKkBB0ERAM=",
          "dtype": "i2"
         }
        },
        {
         "hovertemplate": "lrfm_segment_clustering=0<br>recency=%{x}<br>frequency=%{y}<br>monetary=%{z}<extra></extra>",
         "legendgroup": "0",
         "marker": {
          "color": "red",
          "size": 3,
          "symbol": "circle"
         },
         "mode": "markers",
         "name": "0",
         "scene": "scene",
         "showlegend": true,
         "type": "scatter3d",
         "x": {
          "bdata": "VjlbY2AjYScGUSAzEDEMIQBBHTtJPlE3FSFiWlYIPD5HEAQfCR4wSzBDXSY4UgEeIVQ9O0RaWwFWYAMcWFEzL05gClcfPB0FHE1FLkMxWFBIQyMfTxhHOVIjPgA2Y0IvPCdKJiRDTx8eCSQGNVwgTVELGBkKC1JeKxtIAzcLOigSQB4hJjZgWysbMD4tGDJNCwFSWg8xXTYESxgMFAoACyhZMQVFCyEoSgkACEMfGlAJXAIZGl8STzxdQVIlODEkUWFKHjMtKxclQ11cJh0XW00ZAg9TEV9cO0pJGiUOIgALUlYdJT04JmNEBBMhJjE3FyZiLlxUMlsPIUwFSlYiABteBCg3D00WSwk7BD8XRldHCFQXTycwUFQQCgQHRAdQCzRQVyYVQRAwHgoKLT9fCz4BMSw0BgshE1EXAFYVBi4cPUpPIQYUXU9XSBsuFBlMUDVWADRZUzEXBGE4IA0CAS9BWDAgHwJfMR5fVBgBUR5HYSRgYDUJRUc2XgxXOGMJM0cQYUQYQF4xXiAtCRM6QTkMHE0+QB0qN10RXRMBLkMUNik/U0JcESsfUF47TGI0Sg4DCgIDYBQuRjgdTVcAQSkATE0WPVxQGAMOLjQ4PT9aHlFeMAs1BlUnBRpOTwJJUDJQVwhHPwpMUStMHDFaSFMbOFITI1IbQUYcAw0DIj1DVFZCMyVZC1pCDgkoLi5YEz4gQRIPR1s0NCNHDFsDVCgTQkQCAgJBTD4UNTgTFic6DEg4XiAOJlk1E0dMSwpSNicPJTlEQDZYODg6QVBRDxdVTzRQVWMrX0hETR4zMTwjFEVZFF4YJR9XJgBdQCojHgphUFlPRhUCEzEzGTgeMlFNAToIXw0vMgBgImJCGVIfPw9AUwFgNkA/Lj4BKD8BNSdDRCcxYl4LXkQYMA5UYFxKUB1APFIANBg2CSgNNFcuMxwgGgMnLQ0vNRhKHDVcRx1RUSINAlUENzQaMxMdBTIDYU4nAgoJDVBOFhFWIBgQXCVLXmFAL1tOMhdIYDMFHSkeVAsmXFJLBR4aVkseQSI4SSsOJDgnRlZcGSoaSxgNUi8vMVciMg5KNkhbD0BhKxRjGGJjJWBKCAIiUAhcNjJMVlNHBxw4CBJTDwhCHxJaWkxXHxQuGjALSBhKHmEwGg80DFBWDSBhU0cKLiUwBFEeJFtHFjVZHBpjNhEeWSdFSlZcKGNgAk02UwoKYlYySyIgKTMxVCgGClhHNSpbEkBZRwccDTAXBjcuUEEiFhpMFVFeP0RSU0wTPBsEPxADND0bOycPJWJBOUgKXBljJB0ERkcfFFU4QTYyVgo5ORZEGRZKDUcoNE0GAS0YIUQxAQdOEC5eNhIvM0EsAjoiG1xZFVwNMCItXklJCzEQGQwdMSlYER8oGjEXSjMAHlAXREESXxBKXjw9MwMlDRQQMA4vUlYNRmIQDTQzKzdhJiogCyVFGFwGYR0UNDgeAxYZHEsIYitOMlY2G08rCUFUFQERTjEALE0oKygJOxAnMV5KYDwIG01bAEVYU0QtJQIFSCUyKxsZUgxeKzgaNwZWACcAEAtgYC4AKE4/EjMXGyklE1keDywiAhk4TUcFDQc9DghHSDceQ1YyPUs3Rj5MJBYQEQ0oDhBZLU0xBC8qLloJKgYHNDgDFCYcCAoXK0sJWlozJRJETjIlOF5MA1VRPAxFVRdUCw==",
          "dtype": "i1"
         },
         "y": {
          "bdata": "CwYIDgwKCgUJBA8FBwgLBhERBQ0MEQQFDg0KDAcRBgoTExIGCA8NBwwJBxAOEhMREwQOBhEMBQcKBxMHBwQHBgcHBgQWFwsEBQcIBhAGBBMPBwwJCgYFBgQRCQwJBhUGBAoNCxIGBgQHDg4OCQsIBxEaDA8UCAwHBwwGEw0KCAUFCAoLBAcMEAcIChgODAQLBAYHEAoJCAcIDgwLEQcECAYNFgcUCQkJBwQHEAcBCxYFBQkIFBQEFBUNBAgGDwgHBQUPDxIHDQULBQcPBgYFCQYIBwYGCAQTCAcHBAQHBwcEBwgRBgcHBAUHCAgICgoEBQYGBAsKCggGBgUEDwgEDwgFBA4GBgkJBBEIDhMJBgYHEQ0GBgwGCgcEBQoHBwYFGAUGCgUHCAwEDhQJCQUKDwsTBAURBQsEDQsRBAsHBQkHBAwECBQFDwsFCQgFDwUKCAoPBQoEBQYLDwsLEBAMBg8EEhAFDQUPBAYKCQQFDwkOBQUHCwcPEwcJEAsMFAULCAgREA8FDwkGCQoFCgQGBwoHCgkJDQwLCgcJBwkLCQcJBwcMBwQIBQkECQUQDA8FCAcFBQcFCgAHExYKBAsUCAgQBwUKEw8VDAkFBBALDQsTFwgGDAkOBA8TBwcJBwIMBAkRBwQHBAUBCAYKBQQFCAkHEQgIFQcIDAkGEQUIBhMHDAYFBgwRCAwVEhsJDAoNDBAQBQcJBwcMFwUFBAQUCAQGBQwVCwUGCQUNEQsPCgUJCQYFCQgEDg0HBgUMBQUKBRMJBgcFBwYFEAoEBAgFBQsHCQcGEAUFBwoKCgYQCgYGCRQHDBMEAgYJEggQBQoECQoPBgoMEAQQEQYFBxYKEQAEBwYRBRARCAwPBxYFBwUJCAoFBwcQBQcSDAcSBwcECwkWBAwGEBARDwIEDAcLDAsQDwUPCQYKBw0UBgcGBBAOBAYKCAgJBwkFBgYRBw4ZEg0REgkGBQoHCgYFBgkSBhAJBQgJCBAFBwYHCgcIEQkIBgQEBgYHEAYGCwUSCQcJBAULBxEGCAQGBxcQBAkJDwgFDBAOBgUJEwwGBwUEDQcOCQgKDQ8HEQYEEgwEDAUHBgQGBhYHCQoKEQQKCQQFCxMIBQYJCxEHEREFCQwNBgwHEAwMBgYVCAoPCgUMBgkKCg0NBgYKBhMODQgIBwYGBwoPBxAJDAQGERAGCQ0QCAQIDAcRBgUTBAkHBxMLDAkEBQcMBQoNBQgJCwUIDwsLBRIKCxEGBAQRBAgGBgQKBgwMBAQFEwsGDQgHBwgEBgkEBQURBQoJEwgGBwsEDwkHBxEECQUFDQQUBxAQCQYHDQYFBA8KDBISEg4LEQcJCBINDhAECAsGBQcKBAoNCQUQDwYIBwcEDQcECBIRBQQGBAEFBQwNBAQLCQgLCAUUDwsKCg0QBAQEBAsJBwUFCA4HEAkKCBQMCwgEBwUJBwgREAkEDAcOCggJDA8JBA8WCREFEwcKCgsEDAsFCAQFBwQMDwQFDAUFFwUEBwUPBwQIBAYPCwYIBQUTGRANCxIKBQkFBA8HBAUKBAQGCQoFEgQHCA4LBw4ECQgMBAgJDhEFEhULBggJCAsIBQkPCA4KBQsREREHBAUIEQsFBAUGEBAJBBEFBwcEBwYHEAULDgYGEgcPBREQEAQGDgkQCgcEBQkLBAUNDwUGBwwHAAkLEwQOFRIFAAkJCA==",
          "dtype": "i1"
         },
         "z": {
          "bdata": "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",
          "dtype": "i2"
         }
        },
        {
         "hovertemplate": "lrfm_segment_clustering=2<br>recency=%{x}<br>frequency=%{y}<br>monetary=%{z}<extra></extra>",
         "legendgroup": "2",
         "marker": {
          "color": "blue",
          "size": 3,
          "symbol": "circle"
         },
         "mode": "markers",
         "name": "2",
         "scene": "scene",
         "showlegend": true,
         "type": "scatter3d",
         "x": {
          "bdata": "Tl0vTjliEUgfT2M3ICNOOC4FRlU8Plc4JD5HSS0xLy0qWho0FTNHDhkCAw1HFQ5YPgIiKgw1BjkEQmBKUS9iPBclW1MoHjQ2Xx8KBEVfLUVCIVo3Sj5gOFkHCFdCWVQ1PUsfIz0LQ1k4PEwsOSM9KhQUDRMBNj1OQGICYTkbIRcXSRwZKUYrHSQ4UjheJCAuQyRJVhxcFClfOSZRDUksYjUOYQtDTkBCOWEVHksrDQgCHSo+MBo6PU4gCVoaGVpiETwdYF0rGzM+TlUhXlEQPgY6KC83XVE8SDAqBkceDVUgLVsnX04MTUhZVw5dKQIBSy9FPQRXPwwKXC8oUBcoORk4YB4uRgITWQERWBsNXQNgHgcJME5iGUY8BgMVSQw4NSZRWgxSOVBJQQooK1UROhMUAUpKWUFJXBAPYQgSAUBiVSliDGBSRi4JEyMQGwocS18ECk8bWxYqQCNEWx1OBiscKAYuCU8IREglXlMX",
          "dtype": "i1"
         },
         "y": {
          "bdata": "FRYWFxQWHREWGBQhExAVDxYPExMUFBEWDxUZDR4XExcbExAULBEXDw8RFxsSFxQUHRMTExAaHRQVEhoRESEYHBoXFxYQFiEVFQ4UFBgNFxQTGRQRFRcPFRgXDxQSFRYTFBMZFSIVChoYExkOFBYXExkWExQQGBwRFBEdIhUZGhMaEyIVFQ4XGRkcGRgUFxMaEx4ZGRgYERQSHBkeHBAYHRoaGRUQExoVGyIWFRYZEBEOEisSHhgZFBEWFA8UGBobFxgSFhITEBgSExsaExkUGA8aFxsbFhkSFh4XFxMVFRgVDhocFRIVFiAWHRgWFBUjFhMTFhAWFxUWGhMRGxMWFBUVGhcaERcLGgwRFA8TEhAYExMUFhclFxMVERUWFxAcARkZFBUaGRcXFhQQFhgcFBMbFhUXEhsTGhkSERYWDg0YHRcYExYRFhoUFhUZERIUEBUUFRkTEg4SCxcMFxITFRkWFRkSFBATDhYQEhIZ",
          "dtype": "i1"
         },
         "z": {
          "bdata": "KwWjBSkIBAYmBigIDAfZBm0IlQdnBX4GxwcUB/8HtwgdCHoGVgV+BwUIpgdjBegFPQd5BfIHzAglByQG1wVbBQMHGgabBesFtQZlB+sIyAa8BjQGAgVrBtYGygVhBSEF3An7B2IHOAXaBsUFVAXjBXgFQwaIBgUHTgdsBV8GCAYjBRsF5wjKBZoG0QgiB1EGrwVjBhMGOgVLBnMGWwU2BXYHkgZOCAAH3QdeBV8GoAWkB3IG5gYVCCQH1geMBgQIpQckBncGowj9BSwIYAU8Bj4GOAX2BScGJgZ0BbgFmwXdBisIUghuB5gGLAYvBUYHiwfzBp0G+QVEBRIFwgXYByMFgwchB5QFWwUmBt0FvwVsBlUFiAk+BsYFigd/B7YJ4ge8BnIGnwaWBmEGZwdTBY0GGQU9BxoIwga/BgsIcAXHBikHZgZiBaYGCQVEBaUFkAX5BbUFkggcBjIGlAVNBzQG3QnCBv4IVgUwCVEGpQdGB9IFfweVBjoFgQalBmEGhwUeBt0JQggXB9kHjAcoBv4IhAcMB+kFGQUiBScIZAWGBsYG4wWpCKUHJQZPBh4H2QVWBeQF7gUnBa0FkwUcBkQITAb2BicFAga6Bp4FRwhfBdkFgQctBqMFUwWCBc0FrQXXBTcF+AX2BmkIHQaeBaIFPQZXBRwHTwbYB6EIJgYmCKAFiAb2BY0GkAYsCFoFZgVtB88GIQVVBnQHJwWvBrMF7AbKBn8H5wUEBkgG1QVWBZUF/QZzBX4GaQV5BSsHjwY9B7UFTggzBuEG+wUqCQAGSwcTBpoGxgUcBo4GsAe6BqoGZgZuBWYFBgcjBWcFegajBRAHUAZbBooGJgYABjoFdgcbBV8GNgVCCEAGMwXgBQ0FxgWwBS0JvwapBSsFmwYCBjoFZQUmBUEFxwXABVcG5wXyBt4FywXGBwkFiAUyBvUFQgVgBT0FawebB6YHQAa6BoMHjwUYB8UF",
          "dtype": "i2"
         }
        }
       ],
       "layout": {
        "legend": {
         "itemsizing": "constant",
         "itemwidth": 30,
         "title": {
          "text": "lrfm_segment_clustering"
         },
         "tracegroupgap": 0,
         "x": 0.7,
         "xanchor": "left",
         "y": 0.97,
         "yanchor": "top"
        },
        "margin": {
         "b": 0,
         "l": 0,
         "r": 0,
         "t": 0
        },
        "scene": {
         "domain": {
          "x": [
           0,
           1
          ],
          "y": [
           0,
           1
          ]
         },
         "xaxis": {
          "title": {
           "text": "recency"
          }
         },
         "yaxis": {
          "title": {
           "text": "frequency"
          }
         },
         "zaxis": {
          "title": {
           "text": "monetary"
          }
         }
        },
        "template": {
         "data": {
          "bar": [
           {
            "error_x": {
             "color": "#2a3f5f"
            },
            "error_y": {
             "color": "#2a3f5f"
            },
            "marker": {
             "line": {
              "color": "#E5ECF6",
              "width": 0.5
             },
             "pattern": {
              "fillmode": "overlay",
              "size": 10,
              "solidity": 0.2
             }
            },
            "type": "bar"
           }
          ],
          "barpolar": [
           {
            "marker": {
             "line": {
              "color": "#E5ECF6",
              "width": 0.5
             },
             "pattern": {
              "fillmode": "overlay",
              "size": 10,
              "solidity": 0.2
             }
            },
            "type": "barpolar"
           }
          ],
          "carpet": [
           {
            "aaxis": {
             "endlinecolor": "#2a3f5f",
             "gridcolor": "white",
             "linecolor": "white",
             "minorgridcolor": "white",
             "startlinecolor": "#2a3f5f"
            },
            "baxis": {
             "endlinecolor": "#2a3f5f",
             "gridcolor": "white",
             "linecolor": "white",
             "minorgridcolor": "white",
             "startlinecolor": "#2a3f5f"
            },
            "type": "carpet"
           }
          ],
          "choropleth": [
           {
            "colorbar": {
             "outlinewidth": 0,
             "ticks": ""
            },
            "type": "choropleth"
           }
          ],
          "contour": [
           {
            "colorbar": {
             "outlinewidth": 0,
             "ticks": ""
            },
            "colorscale": [
             [
              0,
              "#0d0887"
             ],
             [
              0.1111111111111111,
              "#46039f"
             ],
             [
              0.2222222222222222,
              "#7201a8"
             ],
             [
              0.3333333333333333,
              "#9c179e"
             ],
             [
              0.4444444444444444,
              "#bd3786"
             ],
             [
              0.5555555555555556,
              "#d8576b"
             ],
             [
              0.6666666666666666,
              "#ed7953"
             ],
             [
              0.7777777777777778,
              "#fb9f3a"
             ],
             [
              0.8888888888888888,
              "#fdca26"
             ],
             [
              1,
              "#f0f921"
             ]
            ],
            "type": "contour"
           }
          ],
          "contourcarpet": [
           {
            "colorbar": {
             "outlinewidth": 0,
             "ticks": ""
            },
            "type": "contourcarpet"
           }
          ],
          "heatmap": [
           {
            "colorbar": {
             "outlinewidth": 0,
             "ticks": ""
            },
            "colorscale": [
             [
              0,
              "#0d0887"
             ],
             [
              0.1111111111111111,
              "#46039f"
             ],
             [
              0.2222222222222222,
              "#7201a8"
             ],
             [
              0.3333333333333333,
              "#9c179e"
             ],
             [
              0.4444444444444444,
              "#bd3786"
             ],
             [
              0.5555555555555556,
              "#d8576b"
             ],
             [
              0.6666666666666666,
              "#ed7953"
             ],
             [
              0.7777777777777778,
              "#fb9f3a"
             ],
             [
              0.8888888888888888,
              "#fdca26"
             ],
             [
              1,
              "#f0f921"
             ]
            ],
            "type": "heatmap"
           }
          ],
          "histogram": [
           {
            "marker": {
             "pattern": {
              "fillmode": "overlay",
              "size": 10,
              "solidity": 0.2
             }
            },
            "type": "histogram"
           }
          ],
          "histogram2d": [
           {
            "colorbar": {
             "outlinewidth": 0,
             "ticks": ""
            },
            "colorscale": [
             [
              0,
              "#0d0887"
             ],
             [
              0.1111111111111111,
              "#46039f"
             ],
             [
              0.2222222222222222,
              "#7201a8"
             ],
             [
              0.3333333333333333,
              "#9c179e"
             ],
             [
              0.4444444444444444,
              "#bd3786"
             ],
             [
              0.5555555555555556,
              "#d8576b"
             ],
             [
              0.6666666666666666,
              "#ed7953"
             ],
             [
              0.7777777777777778,
              "#fb9f3a"
             ],
             [
              0.8888888888888888,
              "#fdca26"
             ],
             [
              1,
              "#f0f921"
             ]
            ],
            "type": "histogram2d"
           }
          ],
          "histogram2dcontour": [
           {
            "colorbar": {
             "outlinewidth": 0,
             "ticks": ""
            },
            "colorscale": [
             [
              0,
              "#0d0887"
             ],
             [
              0.1111111111111111,
              "#46039f"
             ],
             [
              0.2222222222222222,
              "#7201a8"
             ],
             [
              0.3333333333333333,
              "#9c179e"
             ],
             [
              0.4444444444444444,
              "#bd3786"
             ],
             [
              0.5555555555555556,
              "#d8576b"
             ],
             [
              0.6666666666666666,
              "#ed7953"
             ],
             [
              0.7777777777777778,
              "#fb9f3a"
             ],
             [
              0.8888888888888888,
              "#fdca26"
             ],
             [
              1,
              "#f0f921"
             ]
            ],
            "type": "histogram2dcontour"
           }
          ],
          "mesh3d": [
           {
            "colorbar": {
             "outlinewidth": 0,
             "ticks": ""
            },
            "type": "mesh3d"
           }
          ],
          "parcoords": [
           {
            "line": {
             "colorbar": {
              "outlinewidth": 0,
              "ticks": ""
             }
            },
            "type": "parcoords"
           }
          ],
          "pie": [
           {
            "automargin": true,
            "type": "pie"
           }
          ],
          "scatter": [
           {
            "fillpattern": {
             "fillmode": "overlay",
             "size": 10,
             "solidity": 0.2
            },
            "type": "scatter"
           }
          ],
          "scatter3d": [
           {
            "line": {
             "colorbar": {
              "outlinewidth": 0,
              "ticks": ""
             }
            },
            "marker": {
             "colorbar": {
              "outlinewidth": 0,
              "ticks": ""
             }
            },
            "type": "scatter3d"
           }
          ],
          "scattercarpet": [
           {
            "marker": {
             "colorbar": {
              "outlinewidth": 0,
              "ticks": ""
             }
            },
            "type": "scattercarpet"
           }
          ],
          "scattergeo": [
           {
            "marker": {
             "colorbar": {
              "outlinewidth": 0,
              "ticks": ""
             }
            },
            "type": "scattergeo"
           }
          ],
          "scattergl": [
           {
            "marker": {
             "colorbar": {
              "outlinewidth": 0,
              "ticks": ""
             }
            },
            "type": "scattergl"
           }
          ],
          "scattermap": [
           {
            "marker": {
             "colorbar": {
              "outlinewidth": 0,
              "ticks": ""
             }
            },
            "type": "scattermap"
           }
          ],
          "scattermapbox": [
           {
            "marker": {
             "colorbar": {
              "outlinewidth": 0,
              "ticks": ""
             }
            },
            "type": "scattermapbox"
           }
          ],
          "scatterpolar": [
           {
            "marker": {
             "colorbar": {
              "outlinewidth": 0,
              "ticks": ""
             }
            },
            "type": "scatterpolar"
           }
          ],
          "scatterpolargl": [
           {
            "marker": {
             "colorbar": {
              "outlinewidth": 0,
              "ticks": ""
             }
            },
            "type": "scatterpolargl"
           }
          ],
          "scatterternary": [
           {
            "marker": {
             "colorbar": {
              "outlinewidth": 0,
              "ticks": ""
             }
            },
            "type": "scatterternary"
           }
          ],
          "surface": [
           {
            "colorbar": {
             "outlinewidth": 0,
             "ticks": ""
            },
            "colorscale": [
             [
              0,
              "#0d0887"
             ],
             [
              0.1111111111111111,
              "#46039f"
             ],
             [
              0.2222222222222222,
              "#7201a8"
             ],
             [
              0.3333333333333333,
              "#9c179e"
             ],
             [
              0.4444444444444444,
              "#bd3786"
             ],
             [
              0.5555555555555556,
              "#d8576b"
             ],
             [
              0.6666666666666666,
              "#ed7953"
             ],
             [
              0.7777777777777778,
              "#fb9f3a"
             ],
             [
              0.8888888888888888,
              "#fdca26"
             ],
             [
              1,
              "#f0f921"
             ]
            ],
            "type": "surface"
           }
          ],
          "table": [
           {
            "cells": {
             "fill": {
              "color": "#EBF0F8"
             },
             "line": {
              "color": "white"
             }
            },
            "header": {
             "fill": {
              "color": "#C8D4E3"
             },
             "line": {
              "color": "white"
             }
            },
            "type": "table"
           }
          ]
         },
         "layout": {
          "annotationdefaults": {
           "arrowcolor": "#2a3f5f",
           "arrowhead": 0,
           "arrowwidth": 1
          },
          "autotypenumbers": "strict",
          "coloraxis": {
           "colorbar": {
            "outlinewidth": 0,
            "ticks": ""
           }
          },
          "colorscale": {
           "diverging": [
            [
             0,
             "#8e0152"
            ],
            [
             0.1,
             "#c51b7d"
            ],
            [
             0.2,
             "#de77ae"
            ],
            [
             0.3,
             "#f1b6da"
            ],
            [
             0.4,
             "#fde0ef"
            ],
            [
             0.5,
             "#f7f7f7"
            ],
            [
             0.6,
             "#e6f5d0"
            ],
            [
             0.7,
             "#b8e186"
            ],
            [
             0.8,
             "#7fbc41"
            ],
            [
             0.9,
             "#4d9221"
            ],
            [
             1,
             "#276419"
            ]
           ],
           "sequential": [
            [
             0,
             "#0d0887"
            ],
            [
             0.1111111111111111,
             "#46039f"
            ],
            [
             0.2222222222222222,
             "#7201a8"
            ],
            [
             0.3333333333333333,
             "#9c179e"
            ],
            [
             0.4444444444444444,
             "#bd3786"
            ],
            [
             0.5555555555555556,
             "#d8576b"
            ],
            [
             0.6666666666666666,
             "#ed7953"
            ],
            [
             0.7777777777777778,
             "#fb9f3a"
            ],
            [
             0.8888888888888888,
             "#fdca26"
            ],
            [
             1,
             "#f0f921"
            ]
           ],
           "sequentialminus": [
            [
             0,
             "#0d0887"
            ],
            [
             0.1111111111111111,
             "#46039f"
            ],
            [
             0.2222222222222222,
             "#7201a8"
            ],
            [
             0.3333333333333333,
             "#9c179e"
            ],
            [
             0.4444444444444444,
             "#bd3786"
            ],
            [
             0.5555555555555556,
             "#d8576b"
            ],
            [
             0.6666666666666666,
             "#ed7953"
            ],
            [
             0.7777777777777778,
             "#fb9f3a"
            ],
            [
             0.8888888888888888,
             "#fdca26"
            ],
            [
             1,
             "#f0f921"
            ]
           ]
          },
          "colorway": [
           "#636efa",
           "#EF553B",
           "#00cc96",
           "#ab63fa",
           "#FFA15A",
           "#19d3f3",
           "#FF6692",
           "#B6E880",
           "#FF97FF",
           "#FECB52"
          ],
          "font": {
           "color": "#2a3f5f"
          },
          "geo": {
           "bgcolor": "white",
           "lakecolor": "white",
           "landcolor": "#E5ECF6",
           "showlakes": true,
           "showland": true,
           "subunitcolor": "white"
          },
          "hoverlabel": {
           "align": "left"
          },
          "hovermode": "closest",
          "mapbox": {
           "style": "light"
          },
          "paper_bgcolor": "white",
          "plot_bgcolor": "#E5ECF6",
          "polar": {
           "angularaxis": {
            "gridcolor": "white",
            "linecolor": "white",
            "ticks": ""
           },
           "bgcolor": "#E5ECF6",
           "radialaxis": {
            "gridcolor": "white",
            "linecolor": "white",
            "ticks": ""
           }
          },
          "scene": {
           "xaxis": {
            "backgroundcolor": "#E5ECF6",
            "gridcolor": "white",
            "gridwidth": 2,
            "linecolor": "white",
            "showbackground": true,
            "ticks": "",
            "zerolinecolor": "white"
           },
           "yaxis": {
            "backgroundcolor": "#E5ECF6",
            "gridcolor": "white",
            "gridwidth": 2,
            "linecolor": "white",
            "showbackground": true,
            "ticks": "",
            "zerolinecolor": "white"
           },
           "zaxis": {
            "backgroundcolor": "#E5ECF6",
            "gridcolor": "white",
            "gridwidth": 2,
            "linecolor": "white",
            "showbackground": true,
            "ticks": "",
            "zerolinecolor": "white"
           }
          },
          "shapedefaults": {
           "line": {
            "color": "#2a3f5f"
           }
          },
          "ternary": {
           "aaxis": {
            "gridcolor": "white",
            "linecolor": "white",
            "ticks": ""
           },
           "baxis": {
            "gridcolor": "white",
            "linecolor": "white",
            "ticks": ""
           },
           "bgcolor": "#E5ECF6",
           "caxis": {
            "gridcolor": "white",
            "linecolor": "white",
            "ticks": ""
           }
          },
          "title": {
           "x": 0.05
          },
          "xaxis": {
           "automargin": true,
           "gridcolor": "white",
           "linecolor": "white",
           "ticks": "",
           "title": {
            "standoff": 15
           },
           "zerolinecolor": "white",
           "zerolinewidth": 2
          },
          "yaxis": {
           "automargin": true,
           "gridcolor": "white",
           "linecolor": "white",
           "ticks": "",
           "title": {
            "standoff": 15
           },
           "zerolinecolor": "white",
           "zerolinewidth": 2
          }
         }
        },
        "title": {
         "text": "RFM segmentation",
         "x": 0.45,
         "xanchor": "center",
         "y": 0.97,
         "yanchor": "top"
        },
        "xaxis": {
         "tickformat": ".0f"
        }
       }
      }
     },
     "metadata": {},
     "output_type": "display_data"
    }
   ],
   "source": [
    "import plotly.express as px\n",
    "\n",
    "color_map = {\n",
    "    '0' : 'red',\n",
    "    '1' : 'green',\n",
    "    '2' : 'blue',\n",
    "}\n",
    "\n",
    "fig = px.scatter_3d(\n",
    "    df_customer,\n",
    "    x='recency',\n",
    "    y='frequency',\n",
    "    z='monetary',\n",
    "    color='lrfm_segment_clustering',\n",
    "    color_discrete_map=color_map,\n",
    ")\n",
    "\n",
    "fig.update_traces(marker_size = 3)\n",
    "\n",
    "\n",
    "fig.update_layout(margin=dict(l=0, r=0, b=0, t=0),\n",
    "                  title={\n",
    "                    'text': \"RFM segmentation\",\n",
    "                    'y':0.97,\n",
    "                    'x':0.45,\n",
    "                    'xanchor': 'center',\n",
    "                    'yanchor': 'top'},\n",
    "                    legend=dict(\n",
    "                      yanchor=\"top\",\n",
    "                      y=0.97,\n",
    "                      xanchor=\"left\",\n",
    "                      x=0.70,\n",
    "                      itemsizing='constant',\n",
    "                      itemwidth = 30))\n",
    "\n",
    "fig.update_xaxes(tickformat=\".0f\")"
   ]
  },
  {
   "cell_type": "markdown",
   "id": "6884ae5b",
   "metadata": {},
   "source": [
    "- dari heatmap dan scatter plot di atas bisa dibuat tabel seperti berikut:\n",
    "\n",
    "Customer Segmentation Analysis\n",
    "\n",
    "| **Segments** | **Characteristic** | **Goal** | **Strategies** | **Indicator** |\n",
    "| :---------- | :-------------------------------------------------------------------------------------------------------- | :---------------------------------------------------- | :-------------------------------------------------------------------------------------------------------------------- | :---------------------------------------- |\n",
    "| **Segment 2** | Nilai Monetary sangat tinggi, length moderate, frequency sangat rendah, recency rendah (score 3) | Kembangkan customer baru pada segmen ini untuk bisa menjadi loyal customer. | Membuat sistem membership dengan berbagai keuntungan untuk meningkatkan frequency pembelian + loyalty. | Length = high, Freq = high |\n",
    "| **Segment 1** | Nilai monetary, length dan frequency tinggi, dan recency rendah | Fokus pada mempertahankan engagement dan kepuasan segmen ini. | Menawarkan diskon progresif pada setiap pembelian. | Monetary = high, Recency = low |\n",
    "| **Segment 0** | Nilai Freq, Length, Monetary cenderung rendah, recency paling rendah dari segment yang lain. | Meningkatkan nilai transaksi customer dalam segment ini. | Memberikan pengalaman berbelanja yang baik. | Monetary = high, Freq = high, Length = high |\n",
    "\n",
    "---"
   ]
  },
  {
   "cell_type": "code",
   "execution_count": 30,
   "id": "ff156285",
   "metadata": {},
   "outputs": [
    {
     "data": {
      "text/html": [
       "<div>\n",
       "<style scoped>\n",
       "    .dataframe tbody tr th:only-of-type {\n",
       "        vertical-align: middle;\n",
       "    }\n",
       "\n",
       "    .dataframe tbody tr th {\n",
       "        vertical-align: top;\n",
       "    }\n",
       "\n",
       "    .dataframe thead th {\n",
       "        text-align: right;\n",
       "    }\n",
       "</style>\n",
       "<table border=\"1\" class=\"dataframe\">\n",
       "  <thead>\n",
       "    <tr style=\"text-align: right;\">\n",
       "      <th></th>\n",
       "      <th>ID</th>\n",
       "      <th>length</th>\n",
       "      <th>recency</th>\n",
       "      <th>frequency</th>\n",
       "      <th>monetary</th>\n",
       "      <th>l_score</th>\n",
       "      <th>r_score</th>\n",
       "      <th>f_score</th>\n",
       "      <th>m_score</th>\n",
       "      <th>lrfm_segment_clustering</th>\n",
       "    </tr>\n",
       "  </thead>\n",
       "  <tbody>\n",
       "    <tr>\n",
       "      <th>0</th>\n",
       "      <td>0</td>\n",
       "      <td>422</td>\n",
       "      <td>66</td>\n",
       "      <td>17</td>\n",
       "      <td>1198</td>\n",
       "      <td>3</td>\n",
       "      <td>2</td>\n",
       "      <td>3</td>\n",
       "      <td>4</td>\n",
       "      <td>1</td>\n",
       "    </tr>\n",
       "    <tr>\n",
       "      <th>1</th>\n",
       "      <td>1</td>\n",
       "      <td>15</td>\n",
       "      <td>0</td>\n",
       "      <td>18</td>\n",
       "      <td>577</td>\n",
       "      <td>1</td>\n",
       "      <td>4</td>\n",
       "      <td>3</td>\n",
       "      <td>3</td>\n",
       "      <td>1</td>\n",
       "    </tr>\n",
       "    <tr>\n",
       "      <th>2</th>\n",
       "      <td>9</td>\n",
       "      <td>681</td>\n",
       "      <td>86</td>\n",
       "      <td>11</td>\n",
       "      <td>120</td>\n",
       "      <td>4</td>\n",
       "      <td>2</td>\n",
       "      <td>2</td>\n",
       "      <td>2</td>\n",
       "      <td>0</td>\n",
       "    </tr>\n",
       "    <tr>\n",
       "      <th>3</th>\n",
       "      <td>13</td>\n",
       "      <td>343</td>\n",
       "      <td>57</td>\n",
       "      <td>6</td>\n",
       "      <td>32</td>\n",
       "      <td>2</td>\n",
       "      <td>3</td>\n",
       "      <td>1</td>\n",
       "      <td>1</td>\n",
       "      <td>0</td>\n",
       "    </tr>\n",
       "    <tr>\n",
       "      <th>4</th>\n",
       "      <td>17</td>\n",
       "      <td>297</td>\n",
       "      <td>81</td>\n",
       "      <td>28</td>\n",
       "      <td>1028</td>\n",
       "      <td>2</td>\n",
       "      <td>2</td>\n",
       "      <td>4</td>\n",
       "      <td>3</td>\n",
       "      <td>1</td>\n",
       "    </tr>\n",
       "    <tr>\n",
       "      <th>...</th>\n",
       "      <td>...</td>\n",
       "      <td>...</td>\n",
       "      <td>...</td>\n",
       "      <td>...</td>\n",
       "      <td>...</td>\n",
       "      <td>...</td>\n",
       "      <td>...</td>\n",
       "      <td>...</td>\n",
       "      <td>...</td>\n",
       "      <td>...</td>\n",
       "    </tr>\n",
       "    <tr>\n",
       "      <th>2235</th>\n",
       "      <td>11178</td>\n",
       "      <td>99</td>\n",
       "      <td>69</td>\n",
       "      <td>5</td>\n",
       "      <td>32</td>\n",
       "      <td>1</td>\n",
       "      <td>2</td>\n",
       "      <td>1</td>\n",
       "      <td>1</td>\n",
       "      <td>0</td>\n",
       "    </tr>\n",
       "    <tr>\n",
       "      <th>2236</th>\n",
       "      <td>11181</td>\n",
       "      <td>305</td>\n",
       "      <td>85</td>\n",
       "      <td>0</td>\n",
       "      <td>8</td>\n",
       "      <td>2</td>\n",
       "      <td>2</td>\n",
       "      <td>1</td>\n",
       "      <td>1</td>\n",
       "      <td>0</td>\n",
       "    </tr>\n",
       "    <tr>\n",
       "      <th>2237</th>\n",
       "      <td>11187</td>\n",
       "      <td>406</td>\n",
       "      <td>23</td>\n",
       "      <td>9</td>\n",
       "      <td>69</td>\n",
       "      <td>3</td>\n",
       "      <td>4</td>\n",
       "      <td>2</td>\n",
       "      <td>2</td>\n",
       "      <td>0</td>\n",
       "    </tr>\n",
       "    <tr>\n",
       "      <th>2238</th>\n",
       "      <td>11188</td>\n",
       "      <td>125</td>\n",
       "      <td>84</td>\n",
       "      <td>9</td>\n",
       "      <td>89</td>\n",
       "      <td>1</td>\n",
       "      <td>2</td>\n",
       "      <td>2</td>\n",
       "      <td>2</td>\n",
       "      <td>0</td>\n",
       "    </tr>\n",
       "    <tr>\n",
       "      <th>2239</th>\n",
       "      <td>11191</td>\n",
       "      <td>205</td>\n",
       "      <td>11</td>\n",
       "      <td>8</td>\n",
       "      <td>139</td>\n",
       "      <td>2</td>\n",
       "      <td>4</td>\n",
       "      <td>1</td>\n",
       "      <td>2</td>\n",
       "      <td>0</td>\n",
       "    </tr>\n",
       "  </tbody>\n",
       "</table>\n",
       "<p>2240 rows × 10 columns</p>\n",
       "</div>"
      ],
      "text/plain": [
       "         ID  length  recency  frequency  monetary  l_score  r_score  f_score  \\\n",
       "0         0     422       66         17      1198        3        2        3   \n",
       "1         1      15        0         18       577        1        4        3   \n",
       "2         9     681       86         11       120        4        2        2   \n",
       "3        13     343       57          6        32        2        3        1   \n",
       "4        17     297       81         28      1028        2        2        4   \n",
       "...     ...     ...      ...        ...       ...      ...      ...      ...   \n",
       "2235  11178      99       69          5        32        1        2        1   \n",
       "2236  11181     305       85          0         8        2        2        1   \n",
       "2237  11187     406       23          9        69        3        4        2   \n",
       "2238  11188     125       84          9        89        1        2        2   \n",
       "2239  11191     205       11          8       139        2        4        1   \n",
       "\n",
       "      m_score lrfm_segment_clustering  \n",
       "0           4                       1  \n",
       "1           3                       1  \n",
       "2           2                       0  \n",
       "3           1                       0  \n",
       "4           3                       1  \n",
       "...       ...                     ...  \n",
       "2235        1                       0  \n",
       "2236        1                       0  \n",
       "2237        2                       0  \n",
       "2238        2                       0  \n",
       "2239        2                       0  \n",
       "\n",
       "[2240 rows x 10 columns]"
      ]
     },
     "execution_count": 30,
     "metadata": {},
     "output_type": "execute_result"
    }
   ],
   "source": [
    "df_customer.reset_index(drop=False, inplace=True)\n",
    "df_customer"
   ]
  },
  {
   "cell_type": "code",
   "execution_count": 31,
   "id": "c4a3258f",
   "metadata": {},
   "outputs": [],
   "source": [
    "# Mengekspor DataFrame df_customer ke dalam file CSV\n",
    "df_customer.to_csv('data_supermartket_cust_LRFM.csv', index=False)"
   ]
  },
  {
   "cell_type": "markdown",
   "id": "c9d02ea5",
   "metadata": {},
   "source": [
    "## Visualisasi dan EDA"
   ]
  },
  {
   "cell_type": "markdown",
   "id": "4c20d7b5-6d61-4319-9dd3-65898dea261e",
   "metadata": {},
   "source": [
    "- Melihat banyaknya customer berdasarkan kategori recency (Semakin tinggi nilai semakin bagus recencynya)"
   ]
  },
  {
   "cell_type": "code",
   "execution_count": 32,
   "id": "4ef078d7-28da-49b6-a488-2c4060f2b008",
   "metadata": {
    "panel-layout": {
     "height": 874,
     "visible": true,
     "width": 100
    }
   },
   "outputs": [
    {
     "data": {
      "image/png": "[encoded data removed]",
      "text/plain": [
       "<Figure size 800x600 with 1 Axes>"
      ]
     },
     "metadata": {},
     "output_type": "display_data"
    }
   ],
   "source": [
    "# Menghitung banyaknya kategori\n",
    "jml_recency = df_customer['r_score'].value_counts()\n",
    "\n",
    "# Membuat barplot\n",
    "plt.figure(figsize=(8, 6))\n",
    "sns.barplot(x=jml_recency.index, y=jml_recency.values)\n",
    "plt.xlabel('score recency')\n",
    "plt.ylabel('Jumlah')\n",
    "plt.title('Distribusi berdasarkan score recency')\n",
    "plt.show()"
   ]
  },
  {
   "cell_type": "markdown",
   "id": "891e54ed-714f-4868-8dd3-0aa988d11cc7",
   "metadata": {},
   "source": [
    "- Melihat distribusi data dari kolom recency"
   ]
  },
  {
   "cell_type": "code",
   "execution_count": 33,
   "id": "89eb5847-04ee-4032-b390-e8fbdb81540b",
   "metadata": {
    "panel-layout": {
     "height": 874,
     "visible": true,
     "width": 100
    }
   },
   "outputs": [
    {
     "data": {
      "image/png": "[encoded data removed]",
      "text/plain": [
       "<Figure size 800x600 with 1 Axes>"
      ]
     },
     "metadata": {},
     "output_type": "display_data"
    }
   ],
   "source": [
    "plt.figure(figsize=(8, 6))\n",
    "sns.histplot(df['Recency'], kde=True)\n",
    "plt.xlabel('Recency (perhari)')\n",
    "plt.ylabel('Frequency')\n",
    "plt.title('Distribution of Customer Recency')\n",
    "plt.show()"
   ]
  },
  {
   "cell_type": "markdown",
   "id": "eebd079b-0206-4865-b216-b488c0bbf3f3",
   "metadata": {},
   "source": [
    "- Membuat EDA berdasarkan Education + recency"
   ]
  },
  {
   "cell_type": "code",
   "execution_count": 35,
   "id": "3ebb0e44-edfa-43c1-938e-b27333cca8c4",
   "metadata": {
    "panel-layout": {
     "height": 1479,
     "visible": true,
     "width": 100
    }
   },
   "outputs": [
    {
     "data": {
      "text/html": [
       "<div>\n",
       "<style scoped>\n",
       "    .dataframe tbody tr th:only-of-type {\n",
       "        vertical-align: middle;\n",
       "    }\n",
       "\n",
       "    .dataframe tbody tr th {\n",
       "        vertical-align: top;\n",
       "    }\n",
       "\n",
       "    .dataframe thead th {\n",
       "        text-align: right;\n",
       "    }\n",
       "</style>\n",
       "<table border=\"1\" class=\"dataframe\">\n",
       "  <thead>\n",
       "    <tr style=\"text-align: right;\">\n",
       "      <th></th>\n",
       "      <th></th>\n",
       "      <th>ID</th>\n",
       "    </tr>\n",
       "    <tr>\n",
       "      <th>category_recency</th>\n",
       "      <th>Education</th>\n",
       "      <th></th>\n",
       "    </tr>\n",
       "  </thead>\n",
       "  <tbody>\n",
       "    <tr>\n",
       "      <th rowspan=\"5\" valign=\"top\">aktif</th>\n",
       "      <th>2n Cycle</th>\n",
       "      <td>60</td>\n",
       "    </tr>\n",
       "    <tr>\n",
       "      <th>Basic</th>\n",
       "      <td>21</td>\n",
       "    </tr>\n",
       "    <tr>\n",
       "      <th>Graduation</th>\n",
       "      <td>321</td>\n",
       "    </tr>\n",
       "    <tr>\n",
       "      <th>Master</th>\n",
       "      <td>100</td>\n",
       "    </tr>\n",
       "    <tr>\n",
       "      <th>PhD</th>\n",
       "      <td>152</td>\n",
       "    </tr>\n",
       "    <tr>\n",
       "      <th rowspan=\"5\" valign=\"top\">sangat aktif</th>\n",
       "      <th>2n Cycle</th>\n",
       "      <td>69</td>\n",
       "    </tr>\n",
       "    <tr>\n",
       "      <th>Basic</th>\n",
       "      <td>15</td>\n",
       "    </tr>\n",
       "    <tr>\n",
       "      <th>Graduation</th>\n",
       "      <td>358</td>\n",
       "    </tr>\n",
       "    <tr>\n",
       "      <th>Master</th>\n",
       "      <td>130</td>\n",
       "    </tr>\n",
       "    <tr>\n",
       "      <th>PhD</th>\n",
       "      <td>152</td>\n",
       "    </tr>\n",
       "    <tr>\n",
       "      <th rowspan=\"5\" valign=\"top\">sangat lama</th>\n",
       "      <th>2n Cycle</th>\n",
       "      <td>52</td>\n",
       "    </tr>\n",
       "    <tr>\n",
       "      <th>Basic</th>\n",
       "      <td>14</td>\n",
       "    </tr>\n",
       "    <tr>\n",
       "      <th>Graduation</th>\n",
       "      <td>336</td>\n",
       "    </tr>\n",
       "    <tr>\n",
       "      <th>Master</th>\n",
       "      <td>114</td>\n",
       "    </tr>\n",
       "    <tr>\n",
       "      <th>PhD</th>\n",
       "      <td>148</td>\n",
       "    </tr>\n",
       "    <tr>\n",
       "      <th rowspan=\"5\" valign=\"top\">tidak aktif</th>\n",
       "      <th>2n Cycle</th>\n",
       "      <td>22</td>\n",
       "    </tr>\n",
       "    <tr>\n",
       "      <th>Basic</th>\n",
       "      <td>4</td>\n",
       "    </tr>\n",
       "    <tr>\n",
       "      <th>Graduation</th>\n",
       "      <td>112</td>\n",
       "    </tr>\n",
       "    <tr>\n",
       "      <th>Master</th>\n",
       "      <td>26</td>\n",
       "    </tr>\n",
       "    <tr>\n",
       "      <th>PhD</th>\n",
       "      <td>34</td>\n",
       "    </tr>\n",
       "  </tbody>\n",
       "</table>\n",
       "</div>"
      ],
      "text/plain": [
       "                              ID\n",
       "category_recency Education      \n",
       "aktif            2n Cycle     60\n",
       "                 Basic        21\n",
       "                 Graduation  321\n",
       "                 Master      100\n",
       "                 PhD         152\n",
       "sangat aktif     2n Cycle     69\n",
       "                 Basic        15\n",
       "                 Graduation  358\n",
       "                 Master      130\n",
       "                 PhD         152\n",
       "sangat lama      2n Cycle     52\n",
       "                 Basic        14\n",
       "                 Graduation  336\n",
       "                 Master      114\n",
       "                 PhD         148\n",
       "tidak aktif      2n Cycle     22\n",
       "                 Basic         4\n",
       "                 Graduation  112\n",
       "                 Master       26\n",
       "                 PhD          34"
      ]
     },
     "execution_count": 35,
     "metadata": {},
     "output_type": "execute_result"
    }
   ],
   "source": [
    "pivot_table_edu = pd.pivot_table(df, \n",
    "                           values=['ID', 'NumDealsPurchases', 'NumWebPurchases', 'NumCatalogPurchases', 'NumStorePurchases','MntWines', 'MntFruits', 'MntMeatProducts', 'MntFishProducts', 'MntSweetProducts', 'MntGoldProds'],\n",
    "                           index=['category_recency', 'Education'],\n",
    "                           aggfunc={'ID': 'count'})\n",
    "pivot_table_edu"
   ]
  },
  {
   "cell_type": "markdown",
   "id": "0a7a19b5-7e8d-4901-bf38-0eeaf3a83b59",
   "metadata": {},
   "source": [
    "- Membuat EDA berdasarkan Campaign diterima + data recency"
   ]
  },
  {
   "cell_type": "code",
   "execution_count": 36,
   "id": "39a3c00a-8c4b-4770-b24b-38aa46a39c58",
   "metadata": {
    "panel-layout": {
     "height": 1047,
     "visible": true,
     "width": 100
    }
   },
   "outputs": [
    {
     "data": {
      "text/html": [
       "<div>\n",
       "<style scoped>\n",
       "    .dataframe tbody tr th:only-of-type {\n",
       "        vertical-align: middle;\n",
       "    }\n",
       "\n",
       "    .dataframe tbody tr th {\n",
       "        vertical-align: top;\n",
       "    }\n",
       "\n",
       "    .dataframe thead th {\n",
       "        text-align: right;\n",
       "    }\n",
       "</style>\n",
       "<table border=\"1\" class=\"dataframe\">\n",
       "  <thead>\n",
       "    <tr style=\"text-align: right;\">\n",
       "      <th></th>\n",
       "      <th>AcceptedCmp1</th>\n",
       "      <th>AcceptedCmp2</th>\n",
       "      <th>AcceptedCmp3</th>\n",
       "      <th>AcceptedCmp4</th>\n",
       "      <th>AcceptedCmp5</th>\n",
       "      <th>ID</th>\n",
       "    </tr>\n",
       "    <tr>\n",
       "      <th>category_recency</th>\n",
       "      <th></th>\n",
       "      <th></th>\n",
       "      <th></th>\n",
       "      <th></th>\n",
       "      <th></th>\n",
       "      <th></th>\n",
       "    </tr>\n",
       "  </thead>\n",
       "  <tbody>\n",
       "    <tr>\n",
       "      <th>aktif</th>\n",
       "      <td>40</td>\n",
       "      <td>4</td>\n",
       "      <td>47</td>\n",
       "      <td>42</td>\n",
       "      <td>43</td>\n",
       "      <td>654</td>\n",
       "    </tr>\n",
       "    <tr>\n",
       "      <th>sangat aktif</th>\n",
       "      <td>51</td>\n",
       "      <td>11</td>\n",
       "      <td>63</td>\n",
       "      <td>52</td>\n",
       "      <td>57</td>\n",
       "      <td>724</td>\n",
       "    </tr>\n",
       "    <tr>\n",
       "      <th>sangat lama</th>\n",
       "      <td>43</td>\n",
       "      <td>12</td>\n",
       "      <td>41</td>\n",
       "      <td>55</td>\n",
       "      <td>48</td>\n",
       "      <td>664</td>\n",
       "    </tr>\n",
       "    <tr>\n",
       "      <th>tidak aktif</th>\n",
       "      <td>10</td>\n",
       "      <td>3</td>\n",
       "      <td>12</td>\n",
       "      <td>18</td>\n",
       "      <td>15</td>\n",
       "      <td>198</td>\n",
       "    </tr>\n",
       "  </tbody>\n",
       "</table>\n",
       "</div>"
      ],
      "text/plain": [
       "                  AcceptedCmp1  AcceptedCmp2  AcceptedCmp3  AcceptedCmp4  \\\n",
       "category_recency                                                           \n",
       "aktif                       40             4            47            42   \n",
       "sangat aktif                51            11            63            52   \n",
       "sangat lama                 43            12            41            55   \n",
       "tidak aktif                 10             3            12            18   \n",
       "\n",
       "                  AcceptedCmp5   ID  \n",
       "category_recency                     \n",
       "aktif                       43  654  \n",
       "sangat aktif                57  724  \n",
       "sangat lama                 48  664  \n",
       "tidak aktif                 15  198  "
      ]
     },
     "execution_count": 36,
     "metadata": {},
     "output_type": "execute_result"
    }
   ],
   "source": [
    "pivot_table_AccCmp = pd.pivot_table(df,\n",
    "                           values=['ID', 'AcceptedCmp1', 'AcceptedCmp2', 'AcceptedCmp3', 'AcceptedCmp4', 'AcceptedCmp5'],\n",
    "                           index='category_recency',\n",
    "                           aggfunc={'ID': 'count',\n",
    "                                    'AcceptedCmp1': 'sum',\n",
    "                                    'AcceptedCmp2': 'sum',\n",
    "                                    'AcceptedCmp3': 'sum',\n",
    "                                    'AcceptedCmp4': 'sum',\n",
    "                                    'AcceptedCmp5': 'sum',\n",
    "                                    }\n",
    "                             )\n",
    "pivot_table_AccCmp"
   ]
  },
  {
   "cell_type": "markdown",
   "id": "461108fc-95d0-4976-ab65-0855b4b60e36",
   "metadata": {},
   "source": [
    "- Melihat nilai rata-rata income per kategori recency"
   ]
  },
  {
   "cell_type": "code",
   "execution_count": 37,
   "id": "0f4dffef-96c6-4feb-bc2d-d64b09f10e66",
   "metadata": {
    "panel-layout": {
     "height": 1047,
     "visible": true,
     "width": 100
    }
   },
   "outputs": [
    {
     "data": {
      "text/html": [
       "<div>\n",
       "<style scoped>\n",
       "    .dataframe tbody tr th:only-of-type {\n",
       "        vertical-align: middle;\n",
       "    }\n",
       "\n",
       "    .dataframe tbody tr th {\n",
       "        vertical-align: top;\n",
       "    }\n",
       "\n",
       "    .dataframe thead th {\n",
       "        text-align: right;\n",
       "    }\n",
       "</style>\n",
       "<table border=\"1\" class=\"dataframe\">\n",
       "  <thead>\n",
       "    <tr style=\"text-align: right;\">\n",
       "      <th></th>\n",
       "      <th>Income</th>\n",
       "    </tr>\n",
       "    <tr>\n",
       "      <th>category_recency</th>\n",
       "      <th></th>\n",
       "    </tr>\n",
       "  </thead>\n",
       "  <tbody>\n",
       "    <tr>\n",
       "      <th>aktif</th>\n",
       "      <td>51352.068807</td>\n",
       "    </tr>\n",
       "    <tr>\n",
       "      <th>sangat aktif</th>\n",
       "      <td>53013.109116</td>\n",
       "    </tr>\n",
       "    <tr>\n",
       "      <th>sangat lama</th>\n",
       "      <td>52300.246235</td>\n",
       "    </tr>\n",
       "    <tr>\n",
       "      <th>tidak aktif</th>\n",
       "      <td>52120.997475</td>\n",
       "    </tr>\n",
       "  </tbody>\n",
       "</table>\n",
       "</div>"
      ],
      "text/plain": [
       "                        Income\n",
       "category_recency              \n",
       "aktif             51352.068807\n",
       "sangat aktif      53013.109116\n",
       "sangat lama       52300.246235\n",
       "tidak aktif       52120.997475"
      ]
     },
     "execution_count": 37,
     "metadata": {},
     "output_type": "execute_result"
    }
   ],
   "source": [
    "pivot_table_income = pd.pivot_table(df, values='Income', index='category_recency', aggfunc='mean')\n",
    "pivot_table_income"
   ]
  },
  {
   "cell_type": "markdown",
   "id": "b9ee18b4",
   "metadata": {},
   "source": [
    "## Uji statistika"
   ]
  },
  {
   "cell_type": "markdown",
   "id": "7c3792a2",
   "metadata": {},
   "source": [
    "Melakukan uji korelasi terhadap Recency dengan income customer\n",
    "- Ha : Recency dengan Income memiliki hubungan statistik yang signifikan.\n",
    "- Ho : Recency dengan Income tidak memiliki hubungan statistik yang signifikan."
   ]
  },
  {
   "cell_type": "code",
   "execution_count": 38,
   "id": "29f4871e",
   "metadata": {},
   "outputs": [],
   "source": [
    "from scipy import stats"
   ]
  },
  {
   "cell_type": "code",
   "execution_count": 39,
   "id": "6fca16c7",
   "metadata": {},
   "outputs": [
    {
     "name": "stdout",
     "output_type": "stream",
     "text": [
      "Koefisien Korelasi Pearson: -0.004060783385138607\n",
      "Nilai p: 0.8476757319951471\n"
     ]
    }
   ],
   "source": [
    "correlation_coefficient, p_value = stats.pearsonr(df['Recency'], df['Income'])\n",
    "\n",
    "print(f\"Koefisien Korelasi Pearson: {correlation_coefficient}\")\n",
    "print(f\"Nilai p: {p_value}\")"
   ]
  },
  {
   "cell_type": "code",
   "execution_count": 40,
   "id": "ba14df55",
   "metadata": {},
   "outputs": [
    {
     "name": "stdout",
     "output_type": "stream",
     "text": [
      "Recency dengan Income tidak memiliki hubungan statistik yang signifikan.\n"
     ]
    }
   ],
   "source": [
    "alpha = 0.05 #nilai signifikansi\n",
    "if p_value < alpha:\n",
    "    print(\"Recency dengan Income memiliki hubungan statistik yang signifikan.\")\n",
    "else:\n",
    "    print(\"Recency dengan Income tidak memiliki hubungan statistik yang signifikan.\")"
   ]
  },
  {
   "cell_type": "markdown",
   "id": "f4b867cb",
   "metadata": {},
   "source": [
    "Melakukan uji korelasi terhadap Recency dengan income customer\n",
    "- Ha : Recency dengan Acc_campaign memiliki hubungan statistik yang signifikan.\n",
    "- Ho : Recency dengan Acc_campaign tidak memiliki hubungan statistik yang signifikan."
   ]
  },
  {
   "cell_type": "code",
   "execution_count": 41,
   "id": "08a5a142",
   "metadata": {},
   "outputs": [
    {
     "name": "stdout",
     "output_type": "stream",
     "text": [
      "Koefisien Korelasi Pearson: -0.012569712889548982\n",
      "Nilai p: 0.5521116704477966\n"
     ]
    }
   ],
   "source": [
    "# Uji statistik antara total campaign yang diterima (AcceptedCmp1-5) dengan recency\n",
    "df['total_accepted_cmp'] = df[['AcceptedCmp1', 'AcceptedCmp2', 'AcceptedCmp3', 'AcceptedCmp4', 'AcceptedCmp5']].sum(axis=1)\n",
    "\n",
    "correlation_cmp_recency, p_value_cmp_recency = stats.pearsonr(df['total_accepted_cmp'], df['Recency'])\n",
    "\n",
    "print(f\"Koefisien Korelasi Pearson: {correlation_cmp_recency}\")\n",
    "print(f\"Nilai p: {p_value_cmp_recency}\")"
   ]
  },
  {
   "cell_type": "code",
   "execution_count": 42,
   "id": "97fc4994",
   "metadata": {},
   "outputs": [
    {
     "name": "stdout",
     "output_type": "stream",
     "text": [
      "Tidak terdapat hubungan statistik yang signifikan antara total campaign diterima dengan recency.\n"
     ]
    }
   ],
   "source": [
    "if p_value_cmp_recency < alpha:\n",
    "    print(\"Terdapat hubungan statistik yang signifikan antara total campaign diterima dengan recency.\")\n",
    "else:\n",
    "    print(\"Tidak terdapat hubungan statistik yang signifikan antara total campaign diterima dengan recency.\")"
   ]
  },
  {
   "cell_type": "markdown",
   "id": "c6628207",
   "metadata": {},
   "source": [
    "Membuat table Monetary dengan Income"
   ]
  },
  {
   "cell_type": "code",
   "execution_count": 43,
   "id": "c6380acd",
   "metadata": {},
   "outputs": [
    {
     "data": {
      "text/html": [
       "<div>\n",
       "<style scoped>\n",
       "    .dataframe tbody tr th:only-of-type {\n",
       "        vertical-align: middle;\n",
       "    }\n",
       "\n",
       "    .dataframe tbody tr th {\n",
       "        vertical-align: top;\n",
       "    }\n",
       "\n",
       "    .dataframe thead th {\n",
       "        text-align: right;\n",
       "    }\n",
       "</style>\n",
       "<table border=\"1\" class=\"dataframe\">\n",
       "  <thead>\n",
       "    <tr style=\"text-align: right;\">\n",
       "      <th></th>\n",
       "      <th>Income</th>\n",
       "      <th>Monetary</th>\n",
       "    </tr>\n",
       "    <tr>\n",
       "      <th>ID</th>\n",
       "      <th></th>\n",
       "      <th></th>\n",
       "    </tr>\n",
       "  </thead>\n",
       "  <tbody>\n",
       "    <tr>\n",
       "      <th>0</th>\n",
       "      <td>70951.0</td>\n",
       "      <td>1198.0</td>\n",
       "    </tr>\n",
       "    <tr>\n",
       "      <th>1</th>\n",
       "      <td>57091.0</td>\n",
       "      <td>577.0</td>\n",
       "    </tr>\n",
       "    <tr>\n",
       "      <th>9</th>\n",
       "      <td>46098.0</td>\n",
       "      <td>120.0</td>\n",
       "    </tr>\n",
       "    <tr>\n",
       "      <th>13</th>\n",
       "      <td>25358.0</td>\n",
       "      <td>32.0</td>\n",
       "    </tr>\n",
       "    <tr>\n",
       "      <th>17</th>\n",
       "      <td>60491.0</td>\n",
       "      <td>1028.0</td>\n",
       "    </tr>\n",
       "    <tr>\n",
       "      <th>...</th>\n",
       "      <td>...</td>\n",
       "      <td>...</td>\n",
       "    </tr>\n",
       "    <tr>\n",
       "      <th>11178</th>\n",
       "      <td>42394.0</td>\n",
       "      <td>32.0</td>\n",
       "    </tr>\n",
       "    <tr>\n",
       "      <th>11181</th>\n",
       "      <td>156924.0</td>\n",
       "      <td>8.0</td>\n",
       "    </tr>\n",
       "    <tr>\n",
       "      <th>11187</th>\n",
       "      <td>26487.0</td>\n",
       "      <td>69.0</td>\n",
       "    </tr>\n",
       "    <tr>\n",
       "      <th>11188</th>\n",
       "      <td>26091.0</td>\n",
       "      <td>89.0</td>\n",
       "    </tr>\n",
       "    <tr>\n",
       "      <th>11191</th>\n",
       "      <td>41411.0</td>\n",
       "      <td>139.0</td>\n",
       "    </tr>\n",
       "  </tbody>\n",
       "</table>\n",
       "<p>2240 rows × 2 columns</p>\n",
       "</div>"
      ],
      "text/plain": [
       "         Income  Monetary\n",
       "ID                       \n",
       "0       70951.0    1198.0\n",
       "1       57091.0     577.0\n",
       "9       46098.0     120.0\n",
       "13      25358.0      32.0\n",
       "17      60491.0    1028.0\n",
       "...         ...       ...\n",
       "11178   42394.0      32.0\n",
       "11181  156924.0       8.0\n",
       "11187   26487.0      69.0\n",
       "11188   26091.0      89.0\n",
       "11191   41411.0     139.0\n",
       "\n",
       "[2240 rows x 2 columns]"
      ]
     },
     "execution_count": 43,
     "metadata": {},
     "output_type": "execute_result"
    }
   ],
   "source": [
    "# Membuat tabel korelasi antara Monetary dan Income berdasarkan kategori recency\n",
    "pivot_table_monetary_income = pd.pivot_table(\n",
    "    df,\n",
    "    values=['Monetary', 'Income'],\n",
    "    index='ID',\n",
    "    aggfunc='mean'\n",
    ")\n",
    "pivot_table_monetary_income"
   ]
  },
  {
   "cell_type": "markdown",
   "id": "6fb87953-e147-4ac1-9f95-bba9f1e891bc",
   "metadata": {},
   "source": [
    "Melakukan uji korelasi terhadap Monetary dengan income customer\n",
    "- Ha : Monetary dengan Income memiliki hubungan statistik yang signifikan.\n",
    "- Ho : monetary dengan Income tidak memiliki hubungan statistik yang signifikan."
   ]
  },
  {
   "cell_type": "code",
   "execution_count": 44,
   "id": "dd4520ef-db96-44db-9c71-e1c9fa89f25d",
   "metadata": {},
   "outputs": [
    {
     "name": "stdout",
     "output_type": "stream",
     "text": [
      "Koefisien Korelasi Pearson: 0.6647748566757212\n",
      "Nilai p: 8.963852221844129e-286\n"
     ]
    }
   ],
   "source": [
    "correlation_coefficient, p_value = stats.pearsonr(df['Monetary'], df['Income'])\n",
    "\n",
    "print(f\"Koefisien Korelasi Pearson: {correlation_coefficient}\")\n",
    "print(f\"Nilai p: {p_value}\")"
   ]
  },
  {
   "cell_type": "code",
   "execution_count": 45,
   "id": "26ee8a2d-2dce-4f60-b0df-bc3e491d49b9",
   "metadata": {},
   "outputs": [
    {
     "name": "stdout",
     "output_type": "stream",
     "text": [
      "Monetary dengan Income memiliki hubungan statistik yang signifikan.\n"
     ]
    }
   ],
   "source": [
    "alpha = 0.05 #nilai signifikansi\n",
    "if p_value < alpha:\n",
    "    print(\"Monetary dengan Income memiliki hubungan statistik yang signifikan.\")\n",
    "else:\n",
    "    print(\"MOnetary dengan Income tidak memiliki hubungan statistik yang signifikan.\")"
   ]
  },
  {
   "cell_type": "markdown",
   "id": "f4dfd8f2",
   "metadata": {},
   "source": [
    "Melakukan uji korelasi terhadap Monetary dengan pembayaran menggunakan diskon\n",
    "- Ha : Monetary dengan num deals memiliki hubungan statistik yang signifikan.\n",
    "- Ho : monetary dengan num deals tidak memiliki hubungan statistik yang signifikan."
   ]
  },
  {
   "cell_type": "code",
   "execution_count": 46,
   "id": "13084f13",
   "metadata": {},
   "outputs": [
    {
     "name": "stdout",
     "output_type": "stream",
     "text": [
      "Koefisien Korelasi Pearson: -0.06511194439133058\n",
      "Nilai p: 0.002047795000217268\n"
     ]
    }
   ],
   "source": [
    "correlation_monetary_deals, p_value_monetary_deals = stats.pearsonr(df['Monetary'], df['NumDealsPurchases'])\n",
    "\n",
    "print(f\"Koefisien Korelasi Pearson: {correlation_monetary_deals}\")\n",
    "print(f\"Nilai p: {p_value_monetary_deals}\")"
   ]
  },
  {
   "cell_type": "code",
   "execution_count": 47,
   "id": "f8b50dbd",
   "metadata": {},
   "outputs": [
    {
     "name": "stdout",
     "output_type": "stream",
     "text": [
      "Monetary dengan NumDealsPurchases memiliki hubungan statistik yang signifikan.\n"
     ]
    }
   ],
   "source": [
    "if p_value_monetary_deals < alpha:\n",
    "    print(\"Monetary dengan NumDealsPurchases memiliki hubungan statistik yang signifikan.\")\n",
    "else:\n",
    "    print(\"Monetary dengan NumDealsPurchases tidak memiliki hubungan statistik yang signifikan.\")"
   ]
  }
 ],
 "metadata": {
  "kernelspec": {
   "display_name": "base",
   "language": "python",
   "name": "python3"
  },
  "language_info": {
   "codemirror_mode": {
    "name": "ipython",
    "version": 3
   },
   "file_extension": ".py",
   "mimetype": "text/x-python",
   "name": "python",
   "nbconvert_exporter": "python",
   "pygments_lexer": "ipython3",
   "version": "3.12.7"
  },
  "panel-cell-order": [
   "d38d5816-9081-483b-82c9-4992f5650041",
   "e90d97ef-1b0b-4229-ae33-598e5299b6d5",
   "1e867560-2b18-4847-9c28-752756007215",
   "b01a6aba-6e04-4210-bd80-29cff6064b10",
   "f550410b-678b-4171-a735-5bbd0a07566b",
   "5c576d31-748e-422b-90de-321f2cb6ab01",
   "a6c5aeea-177b-4a5d-82a3-feec89a19d1d",
   "eaa32804-5975-42e4-90fd-c252b86d0ede",
   "7ef2cc82-87b3-4c43-8948-ed9eb347c4d3",
   "b1060945-b3d3-437c-9f48-bb39fbfdea80",
   "4ef078d7-28da-49b6-a488-2c4060f2b008",
   "401255e6-0593-46f7-8c03-3db4c7c2c04b",
   "0744d0b9-84a9-4f7e-bbf4-184d7878e515",
   "89eb5847-04ee-4032-b390-e8fbdb81540b",
   "3ebb0e44-edfa-43c1-938e-b27333cca8c4",
   "39a3c00a-8c4b-4770-b24b-38aa46a39c58",
   "0f4dffef-96c6-4feb-bc2d-d64b09f10e66",
   "a92950f3-eaff-41f9-82a2-d37001e999a2",
   "bb66d847-b40d-4b25-90e3-2344fab3a229",
   "692374a3-2b58-40bf-aaf4-66cf2fbfd5de",
   "c8727478-a6f1-488f-b6f5-8cbf69b7e3ee",
   "38a39b55-5ba2-40e4-bea5-4db7f63deddc",
   "970ff5c4-d35c-4c8f-9947-06b365562918",
   "44097100-063d-4009-bb8f-8658ba3950f5"
  ]
 },
 "nbformat": 4,
 "nbformat_minor": 5
}
